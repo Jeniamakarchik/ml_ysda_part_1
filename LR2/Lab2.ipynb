{
 "cells": [
  {
   "cell_type": "markdown",
   "metadata": {},
   "source": [
    "## Лабораторная работа 2. Введение в машинное обучение.\n",
    "\n",
    "![](https://newapplift-production.s3.amazonaws.com/comfy/cms/files/files/000/001/201/original/machine-learning-robots-dilbert.gif)\n",
    "\n",
    "Результат лабораторной работы − отчет в формате Jupyter notebook'а. Постарайтесь сделать ваш отчет интересным рассказом, последовательно отвечающим на вопросы из заданий. Помимо ответов на вопросы, в отчете так же должен быть код, однако чем меньше кода, тем лучше всем: мне − меньше проверять, вам —  проще найти ошибку или дополнить эксперимент. При проверке оценивается четкость ответов на вопросы, аккуратность отчета и кода.\n",
    "\n",
    "### Оценивание и штрафы\n",
    "\n",
    "* Каждая из задач имеет определенную «стоимость» (указана в скобках около задачи)\n",
    "* Максимально допустимая оценка за работу — 15 баллов\n",
    "* При сдаче до soft deadline можно получить максимум 100% баллов\n",
    "* При просрочке не более, чем на 5 минут — максимум 90% баллов\n",
    "* При просрочке не более, чем на 1 час — максимум 80% баллов\n",
    "* При сдаче до hard deadline — максиму 70% баллов\n",
    "* Сдавать задание после hard deadline нельзя\n",
    "* «Похожие» решения считаются плагиатом и все задействованные студенты (в том числе те, у кого списали) не могут получить за него больше 0 баллов и понижают карму\n",
    "* Если вы нашли решение какого-то из заданий в открытом источнике, необходимо прислать ссылку на этот источник (скорее всего вы будете не единственным, кто это нашел, поэтому чтобы исключить подозрение в плагиате, необходима ссылка на источник)\n",
    "* Не оцениваются задания с удалёнными формулировкам\n",
    "* Не оценивается лабораторная работа целиком, если она была выложена в открытый источник"
   ]
  },
  {
   "cell_type": "markdown",
   "metadata": {},
   "source": [
    "### Метрика качества\n",
    "\n",
    "Обучение и оценка качества модели производится на независимых множествах примеров. Как правило, имеющующиеся примеры разбивают на два подмножества: обучающее (train) и тестовое (test). Выбор пропорции разбиения — компромисс. Действительно, большой размер обучения ведет к более качественным алгоритмам, но бОльшему шуму при оценке модели на тесте. И наоборот, большой размер тестовой выборки ведет к менее шумной оценке качества, однако обученные модели получаются менее точными.\n",
    "\n",
    "Многие модели классификации предсказывают оценку принадлежности положительному классу $\\tilde{y}(x) \\in R$ (например, вероятность принадлежности классу 1). После этого принимают решение о классе объекта путем сравнения оценки с некоторым порогом $\\theta$:\n",
    "\n",
    "$$y(x) = \n",
    "\\begin{cases}\n",
    "+1, &\\text{если} \\; \\tilde{y}(x) \\geq \\theta \\\\\n",
    "-1, &\\text{если} \\; \\tilde{y}(x) < \\theta\n",
    "\\end{cases}\n",
    "$$\n",
    "\n",
    "В этом случае можно рассматривать метрики, которые умеют работать с исходным ответом классификатора. В задании мы будем работать с метрикой AUC-ROC, которую в данном случае можно считать как долю неправильно упорядоченных пар объектов, отсортированных по возрастанию предсказанной оценки принадлежности классу 1 (более подробно можно узнать на следующих лекциях или, например, [здесь](https://github.com/esokolov/ml-course-msu/blob/master/ML15/lecture-notes/Sem05_metrics.pdf)). Детального понимания принципов работы метрики AUC-ROC для выполнения этой лабораторной не требуется."
   ]
  },
  {
   "cell_type": "markdown",
   "metadata": {},
   "source": [
    "### Подбор гиперпараметров модели\n",
    "\n",
    "В задачах машинного обучения следует различать параметры модели и гиперпараметры (структурные параметры). Обычно параметры модели настраиваются в ходе обучения (например, веса в линейной модели или структура решающего дерева), в то время как гиперпараметры задаются заранее (например, значение силы регуляризации в линейной модели или максимальная глубина решающего дерева). Каждая модель, как правило, имеет множество гиперпараметров и нет универсальных наборов гиперпараметров, оптимально работающих во всех задачах, поэтому для каждой задачи нужно подбирать свой набор.\n",
    "\n",
    "Для оптимизации гиперпараметров модели часто используют _перебор по сетке (grid search)_: для каждого гиперпараметра выбирается несколько значений, далее перебираются все комбинации значений и выбирается комбинация, на которой модель показывает лучшее качество (с точки зрения оптимизируемой метрики). Однако, в этом случае нужно грамотно оценивать построенную модель, а именно делать разбиение на обучающую и тестовую выборку. Есть несколько схем, как это можно реализовать: \n",
    "\n",
    " - Разбить имеющуюся выборку на обучающую и тестовую. В этом случае сравнение большого числа моделей при переборе гиперпараметров приводит к ситуации, когда лучшая на тестовой подвыборке модель не сохраняет свои качества на новых данных. Можно сказать, что происходит _переобучение_ на тестовую выборку.\n",
    " - Для устранения описанной выше проблемы, можно разбить данные на 3 непересекающихся подвыборки: обучение, валидация и тест. Валидационную подвыборку используют для сравнения моделей, а тестовую — для окончательной оценки качества и сравнения семейств моделей с подобранными гиперпараметрами.\n",
    " - Другой способ сравнения моделей — [кросс-валидация](http://bit.ly/1CHXsNH) . Существуют различные схемы кросс-валидации:\n",
    "  - Leave-One-Out\n",
    "  - K-Fold\n",
    "  - Многократное случайное разбиение выборки\n",
    "  \n",
    "Кросс-валидация вычислительно затратна, особенно если вы делаете перебор по сетке с очень большим числом комбинации. С учетом конечности времени на выполнение задания, возникает ряд компромиссов: \n",
    "  - сетку гиперпараметров можно делать более разреженной, перебирая меньше значений каждого гиперпараметра; однако, не стоит забывать, что в таком случае можно пропустить хорошую комбинацию гиперпараметров;\n",
    "  - кросс-валидацию можно делать с меньшим числом разбиений или фолдов, но в таком случае оценка качества становится более шумной и увеличивается риск выбрать неоптимальный набор гиперпараметров из-за случайности разбиения;\n",
    "  - гиперпараметры можно оптимизировать последовательно (жадно) — один за другим, а не перебирать все комбинации; такая стратегия не всегда приводит к оптимальному набору;\n",
    "  - перебирать не все комбинации гиперпараметров, а небольшое число случайно выбранных."
   ]
  },
  {
   "cell_type": "markdown",
   "metadata": {},
   "source": [
    "### Задание"
   ]
  },
  {
   "cell_type": "markdown",
   "metadata": {},
   "source": [
    "В этой лабораторной работе мы научимся обучать модели машинного обучения, корректно ставить эксперименты, подбирать гиперпараметры, сравнивать и смешивать модели. Вам предлагается решить задачу бинарной классификации, а именно построить алгоритм, предсказывающий победу команды в компьютерной игре Dota2.\n",
    " \n",
    "Более подробно про данные можно почитать на странице первого конкурсного [соревнования](https://www.kaggle.com/t/55797188147b4b519023923730aa5545). Целевой признак записан в переменной radiant_win. "
   ]
  },
  {
   "cell_type": "markdown",
   "metadata": {},
   "source": [
    "Загрузите набор данных *train.csv*, *gold.csv* и *lh.csv*. Чтобы лучше понимать, с чем вы работаете/корректно ли вы загрузили данные можно вывести несколько первых строк на экран."
   ]
  },
  {
   "cell_type": "code",
   "execution_count": 23,
   "metadata": {},
   "outputs": [],
   "source": [
    "import numpy as np\n",
    "import pandas as pd\n",
    "import matplotlib.pyplot as plt"
   ]
  },
  {
   "cell_type": "code",
   "execution_count": 24,
   "metadata": {},
   "outputs": [],
   "source": [
    "train_data = pd.read_csv('data/train.csv')\n",
    "gold_data = pd.read_csv('data/gold.csv')\n",
    "lh_data = pd.read_csv('data/lh.csv')"
   ]
  },
  {
   "cell_type": "code",
   "execution_count": 25,
   "metadata": {},
   "outputs": [
    {
     "data": {
      "text/html": [
       "<div>\n",
       "<style scoped>\n",
       "    .dataframe tbody tr th:only-of-type {\n",
       "        vertical-align: middle;\n",
       "    }\n",
       "\n",
       "    .dataframe tbody tr th {\n",
       "        vertical-align: top;\n",
       "    }\n",
       "\n",
       "    .dataframe thead th {\n",
       "        text-align: right;\n",
       "    }\n",
       "</style>\n",
       "<table border=\"1\" class=\"dataframe\">\n",
       "  <thead>\n",
       "    <tr style=\"text-align: right;\">\n",
       "      <th></th>\n",
       "      <th>mid</th>\n",
       "      <th>patch</th>\n",
       "      <th>radiant_win</th>\n",
       "    </tr>\n",
       "  </thead>\n",
       "  <tbody>\n",
       "    <tr>\n",
       "      <th>0</th>\n",
       "      <td>48434</td>\n",
       "      <td>25</td>\n",
       "      <td>True</td>\n",
       "    </tr>\n",
       "    <tr>\n",
       "      <th>1</th>\n",
       "      <td>37074</td>\n",
       "      <td>18</td>\n",
       "      <td>False</td>\n",
       "    </tr>\n",
       "    <tr>\n",
       "      <th>2</th>\n",
       "      <td>5018</td>\n",
       "      <td>8</td>\n",
       "      <td>False</td>\n",
       "    </tr>\n",
       "    <tr>\n",
       "      <th>3</th>\n",
       "      <td>38479</td>\n",
       "      <td>18</td>\n",
       "      <td>True</td>\n",
       "    </tr>\n",
       "    <tr>\n",
       "      <th>4</th>\n",
       "      <td>69147</td>\n",
       "      <td>41</td>\n",
       "      <td>False</td>\n",
       "    </tr>\n",
       "  </tbody>\n",
       "</table>\n",
       "</div>"
      ],
      "text/plain": [
       "     mid  patch  radiant_win\n",
       "0  48434     25         True\n",
       "1  37074     18        False\n",
       "2   5018      8        False\n",
       "3  38479     18         True\n",
       "4  69147     41        False"
      ]
     },
     "execution_count": 25,
     "metadata": {},
     "output_type": "execute_result"
    }
   ],
   "source": [
    "train_data.head()"
   ]
  },
  {
   "cell_type": "code",
   "execution_count": 26,
   "metadata": {},
   "outputs": [
    {
     "data": {
      "text/html": [
       "<div>\n",
       "<style scoped>\n",
       "    .dataframe tbody tr th:only-of-type {\n",
       "        vertical-align: middle;\n",
       "    }\n",
       "\n",
       "    .dataframe tbody tr th {\n",
       "        vertical-align: top;\n",
       "    }\n",
       "\n",
       "    .dataframe thead th {\n",
       "        text-align: right;\n",
       "    }\n",
       "</style>\n",
       "<table border=\"1\" class=\"dataframe\">\n",
       "  <thead>\n",
       "    <tr style=\"text-align: right;\">\n",
       "      <th></th>\n",
       "      <th>mid</th>\n",
       "      <th>time</th>\n",
       "      <th>player_0</th>\n",
       "      <th>player_1</th>\n",
       "      <th>player_2</th>\n",
       "      <th>player_3</th>\n",
       "      <th>player_4</th>\n",
       "      <th>player_5</th>\n",
       "      <th>player_6</th>\n",
       "      <th>player_7</th>\n",
       "      <th>player_8</th>\n",
       "      <th>player_9</th>\n",
       "    </tr>\n",
       "  </thead>\n",
       "  <tbody>\n",
       "    <tr>\n",
       "      <th>0</th>\n",
       "      <td>0</td>\n",
       "      <td>60</td>\n",
       "      <td>-1</td>\n",
       "      <td>-1</td>\n",
       "      <td>-1</td>\n",
       "      <td>-1</td>\n",
       "      <td>-1</td>\n",
       "      <td>-1</td>\n",
       "      <td>-1</td>\n",
       "      <td>-1</td>\n",
       "      <td>-1</td>\n",
       "      <td>-1</td>\n",
       "    </tr>\n",
       "    <tr>\n",
       "      <th>1</th>\n",
       "      <td>0</td>\n",
       "      <td>120</td>\n",
       "      <td>-1</td>\n",
       "      <td>-1</td>\n",
       "      <td>-1</td>\n",
       "      <td>-1</td>\n",
       "      <td>-1</td>\n",
       "      <td>-1</td>\n",
       "      <td>-1</td>\n",
       "      <td>-1</td>\n",
       "      <td>-1</td>\n",
       "      <td>-1</td>\n",
       "    </tr>\n",
       "    <tr>\n",
       "      <th>2</th>\n",
       "      <td>0</td>\n",
       "      <td>180</td>\n",
       "      <td>-1</td>\n",
       "      <td>-1</td>\n",
       "      <td>-1</td>\n",
       "      <td>-1</td>\n",
       "      <td>-1</td>\n",
       "      <td>-1</td>\n",
       "      <td>-1</td>\n",
       "      <td>-1</td>\n",
       "      <td>-1</td>\n",
       "      <td>-1</td>\n",
       "    </tr>\n",
       "    <tr>\n",
       "      <th>3</th>\n",
       "      <td>0</td>\n",
       "      <td>240</td>\n",
       "      <td>-1</td>\n",
       "      <td>-1</td>\n",
       "      <td>-1</td>\n",
       "      <td>-1</td>\n",
       "      <td>-1</td>\n",
       "      <td>-1</td>\n",
       "      <td>-1</td>\n",
       "      <td>-1</td>\n",
       "      <td>-1</td>\n",
       "      <td>-1</td>\n",
       "    </tr>\n",
       "    <tr>\n",
       "      <th>4</th>\n",
       "      <td>0</td>\n",
       "      <td>300</td>\n",
       "      <td>-1</td>\n",
       "      <td>-1</td>\n",
       "      <td>-1</td>\n",
       "      <td>-1</td>\n",
       "      <td>-1</td>\n",
       "      <td>-1</td>\n",
       "      <td>-1</td>\n",
       "      <td>-1</td>\n",
       "      <td>-1</td>\n",
       "      <td>-1</td>\n",
       "    </tr>\n",
       "  </tbody>\n",
       "</table>\n",
       "</div>"
      ],
      "text/plain": [
       "   mid  time  player_0  player_1  player_2  player_3  player_4  player_5  \\\n",
       "0    0    60        -1        -1        -1        -1        -1        -1   \n",
       "1    0   120        -1        -1        -1        -1        -1        -1   \n",
       "2    0   180        -1        -1        -1        -1        -1        -1   \n",
       "3    0   240        -1        -1        -1        -1        -1        -1   \n",
       "4    0   300        -1        -1        -1        -1        -1        -1   \n",
       "\n",
       "   player_6  player_7  player_8  player_9  \n",
       "0        -1        -1        -1        -1  \n",
       "1        -1        -1        -1        -1  \n",
       "2        -1        -1        -1        -1  \n",
       "3        -1        -1        -1        -1  \n",
       "4        -1        -1        -1        -1  "
      ]
     },
     "execution_count": 26,
     "metadata": {},
     "output_type": "execute_result"
    }
   ],
   "source": [
    "gold_data.head()"
   ]
  },
  {
   "cell_type": "code",
   "execution_count": 27,
   "metadata": {},
   "outputs": [
    {
     "data": {
      "text/html": [
       "<div>\n",
       "<style scoped>\n",
       "    .dataframe tbody tr th:only-of-type {\n",
       "        vertical-align: middle;\n",
       "    }\n",
       "\n",
       "    .dataframe tbody tr th {\n",
       "        vertical-align: top;\n",
       "    }\n",
       "\n",
       "    .dataframe thead th {\n",
       "        text-align: right;\n",
       "    }\n",
       "</style>\n",
       "<table border=\"1\" class=\"dataframe\">\n",
       "  <thead>\n",
       "    <tr style=\"text-align: right;\">\n",
       "      <th></th>\n",
       "      <th>mid</th>\n",
       "      <th>time</th>\n",
       "      <th>player_0</th>\n",
       "      <th>player_1</th>\n",
       "      <th>player_2</th>\n",
       "      <th>player_3</th>\n",
       "      <th>player_4</th>\n",
       "      <th>player_5</th>\n",
       "      <th>player_6</th>\n",
       "      <th>player_7</th>\n",
       "      <th>player_8</th>\n",
       "      <th>player_9</th>\n",
       "    </tr>\n",
       "  </thead>\n",
       "  <tbody>\n",
       "    <tr>\n",
       "      <th>814685</th>\n",
       "      <td>81468</td>\n",
       "      <td>360</td>\n",
       "      <td>762</td>\n",
       "      <td>700</td>\n",
       "      <td>1497</td>\n",
       "      <td>1535</td>\n",
       "      <td>1102</td>\n",
       "      <td>2292</td>\n",
       "      <td>2062</td>\n",
       "      <td>1301</td>\n",
       "      <td>786</td>\n",
       "      <td>1933</td>\n",
       "    </tr>\n",
       "    <tr>\n",
       "      <th>814686</th>\n",
       "      <td>81468</td>\n",
       "      <td>420</td>\n",
       "      <td>844</td>\n",
       "      <td>782</td>\n",
       "      <td>2065</td>\n",
       "      <td>1976</td>\n",
       "      <td>1423</td>\n",
       "      <td>2837</td>\n",
       "      <td>2541</td>\n",
       "      <td>1383</td>\n",
       "      <td>993</td>\n",
       "      <td>2227</td>\n",
       "    </tr>\n",
       "    <tr>\n",
       "      <th>814687</th>\n",
       "      <td>81468</td>\n",
       "      <td>480</td>\n",
       "      <td>976</td>\n",
       "      <td>959</td>\n",
       "      <td>2504</td>\n",
       "      <td>2289</td>\n",
       "      <td>1773</td>\n",
       "      <td>3158</td>\n",
       "      <td>2995</td>\n",
       "      <td>1465</td>\n",
       "      <td>1307</td>\n",
       "      <td>2985</td>\n",
       "    </tr>\n",
       "    <tr>\n",
       "      <th>814688</th>\n",
       "      <td>81468</td>\n",
       "      <td>540</td>\n",
       "      <td>1058</td>\n",
       "      <td>1327</td>\n",
       "      <td>2660</td>\n",
       "      <td>2511</td>\n",
       "      <td>2136</td>\n",
       "      <td>3716</td>\n",
       "      <td>3405</td>\n",
       "      <td>1583</td>\n",
       "      <td>1484</td>\n",
       "      <td>3229</td>\n",
       "    </tr>\n",
       "    <tr>\n",
       "      <th>814689</th>\n",
       "      <td>81468</td>\n",
       "      <td>600</td>\n",
       "      <td>1656</td>\n",
       "      <td>1409</td>\n",
       "      <td>3376</td>\n",
       "      <td>2915</td>\n",
       "      <td>2277</td>\n",
       "      <td>4674</td>\n",
       "      <td>3725</td>\n",
       "      <td>2010</td>\n",
       "      <td>1704</td>\n",
       "      <td>3531</td>\n",
       "    </tr>\n",
       "  </tbody>\n",
       "</table>\n",
       "</div>"
      ],
      "text/plain": [
       "          mid  time  player_0  player_1  player_2  player_3  player_4  \\\n",
       "814685  81468   360       762       700      1497      1535      1102   \n",
       "814686  81468   420       844       782      2065      1976      1423   \n",
       "814687  81468   480       976       959      2504      2289      1773   \n",
       "814688  81468   540      1058      1327      2660      2511      2136   \n",
       "814689  81468   600      1656      1409      3376      2915      2277   \n",
       "\n",
       "        player_5  player_6  player_7  player_8  player_9  \n",
       "814685      2292      2062      1301       786      1933  \n",
       "814686      2837      2541      1383       993      2227  \n",
       "814687      3158      2995      1465      1307      2985  \n",
       "814688      3716      3405      1583      1484      3229  \n",
       "814689      4674      3725      2010      1704      3531  "
      ]
     },
     "execution_count": 27,
     "metadata": {},
     "output_type": "execute_result"
    }
   ],
   "source": [
    "gold_data.tail()"
   ]
  },
  {
   "cell_type": "code",
   "execution_count": 28,
   "metadata": {},
   "outputs": [
    {
     "data": {
      "text/html": [
       "<div>\n",
       "<style scoped>\n",
       "    .dataframe tbody tr th:only-of-type {\n",
       "        vertical-align: middle;\n",
       "    }\n",
       "\n",
       "    .dataframe tbody tr th {\n",
       "        vertical-align: top;\n",
       "    }\n",
       "\n",
       "    .dataframe thead th {\n",
       "        text-align: right;\n",
       "    }\n",
       "</style>\n",
       "<table border=\"1\" class=\"dataframe\">\n",
       "  <thead>\n",
       "    <tr style=\"text-align: right;\">\n",
       "      <th></th>\n",
       "      <th>mid</th>\n",
       "      <th>time</th>\n",
       "      <th>player_0</th>\n",
       "      <th>player_1</th>\n",
       "      <th>player_2</th>\n",
       "      <th>player_3</th>\n",
       "      <th>player_4</th>\n",
       "      <th>player_5</th>\n",
       "      <th>player_6</th>\n",
       "      <th>player_7</th>\n",
       "      <th>player_8</th>\n",
       "      <th>player_9</th>\n",
       "    </tr>\n",
       "  </thead>\n",
       "  <tbody>\n",
       "    <tr>\n",
       "      <th>0</th>\n",
       "      <td>0</td>\n",
       "      <td>60</td>\n",
       "      <td>-1</td>\n",
       "      <td>-1</td>\n",
       "      <td>-1</td>\n",
       "      <td>-1</td>\n",
       "      <td>-1</td>\n",
       "      <td>-1</td>\n",
       "      <td>-1</td>\n",
       "      <td>-1</td>\n",
       "      <td>-1</td>\n",
       "      <td>-1</td>\n",
       "    </tr>\n",
       "    <tr>\n",
       "      <th>1</th>\n",
       "      <td>0</td>\n",
       "      <td>120</td>\n",
       "      <td>-1</td>\n",
       "      <td>-1</td>\n",
       "      <td>-1</td>\n",
       "      <td>-1</td>\n",
       "      <td>-1</td>\n",
       "      <td>-1</td>\n",
       "      <td>-1</td>\n",
       "      <td>-1</td>\n",
       "      <td>-1</td>\n",
       "      <td>-1</td>\n",
       "    </tr>\n",
       "    <tr>\n",
       "      <th>2</th>\n",
       "      <td>0</td>\n",
       "      <td>180</td>\n",
       "      <td>-1</td>\n",
       "      <td>-1</td>\n",
       "      <td>-1</td>\n",
       "      <td>-1</td>\n",
       "      <td>-1</td>\n",
       "      <td>-1</td>\n",
       "      <td>-1</td>\n",
       "      <td>-1</td>\n",
       "      <td>-1</td>\n",
       "      <td>-1</td>\n",
       "    </tr>\n",
       "    <tr>\n",
       "      <th>3</th>\n",
       "      <td>0</td>\n",
       "      <td>240</td>\n",
       "      <td>-1</td>\n",
       "      <td>-1</td>\n",
       "      <td>-1</td>\n",
       "      <td>-1</td>\n",
       "      <td>-1</td>\n",
       "      <td>-1</td>\n",
       "      <td>-1</td>\n",
       "      <td>-1</td>\n",
       "      <td>-1</td>\n",
       "      <td>-1</td>\n",
       "    </tr>\n",
       "    <tr>\n",
       "      <th>4</th>\n",
       "      <td>0</td>\n",
       "      <td>300</td>\n",
       "      <td>-1</td>\n",
       "      <td>-1</td>\n",
       "      <td>-1</td>\n",
       "      <td>-1</td>\n",
       "      <td>-1</td>\n",
       "      <td>-1</td>\n",
       "      <td>-1</td>\n",
       "      <td>-1</td>\n",
       "      <td>-1</td>\n",
       "      <td>-1</td>\n",
       "    </tr>\n",
       "  </tbody>\n",
       "</table>\n",
       "</div>"
      ],
      "text/plain": [
       "   mid  time  player_0  player_1  player_2  player_3  player_4  player_5  \\\n",
       "0    0    60        -1        -1        -1        -1        -1        -1   \n",
       "1    0   120        -1        -1        -1        -1        -1        -1   \n",
       "2    0   180        -1        -1        -1        -1        -1        -1   \n",
       "3    0   240        -1        -1        -1        -1        -1        -1   \n",
       "4    0   300        -1        -1        -1        -1        -1        -1   \n",
       "\n",
       "   player_6  player_7  player_8  player_9  \n",
       "0        -1        -1        -1        -1  \n",
       "1        -1        -1        -1        -1  \n",
       "2        -1        -1        -1        -1  \n",
       "3        -1        -1        -1        -1  \n",
       "4        -1        -1        -1        -1  "
      ]
     },
     "execution_count": 28,
     "metadata": {},
     "output_type": "execute_result"
    }
   ],
   "source": [
    "lh_data.head()"
   ]
  },
  {
   "cell_type": "code",
   "execution_count": 29,
   "metadata": {},
   "outputs": [
    {
     "data": {
      "text/html": [
       "<div>\n",
       "<style scoped>\n",
       "    .dataframe tbody tr th:only-of-type {\n",
       "        vertical-align: middle;\n",
       "    }\n",
       "\n",
       "    .dataframe tbody tr th {\n",
       "        vertical-align: top;\n",
       "    }\n",
       "\n",
       "    .dataframe thead th {\n",
       "        text-align: right;\n",
       "    }\n",
       "</style>\n",
       "<table border=\"1\" class=\"dataframe\">\n",
       "  <thead>\n",
       "    <tr style=\"text-align: right;\">\n",
       "      <th></th>\n",
       "      <th>mid</th>\n",
       "      <th>time</th>\n",
       "      <th>player_0</th>\n",
       "      <th>player_1</th>\n",
       "      <th>player_2</th>\n",
       "      <th>player_3</th>\n",
       "      <th>player_4</th>\n",
       "      <th>player_5</th>\n",
       "      <th>player_6</th>\n",
       "      <th>player_7</th>\n",
       "      <th>player_8</th>\n",
       "      <th>player_9</th>\n",
       "    </tr>\n",
       "  </thead>\n",
       "  <tbody>\n",
       "    <tr>\n",
       "      <th>814685</th>\n",
       "      <td>81468</td>\n",
       "      <td>360</td>\n",
       "      <td>8</td>\n",
       "      <td>0</td>\n",
       "      <td>22</td>\n",
       "      <td>26</td>\n",
       "      <td>14</td>\n",
       "      <td>32</td>\n",
       "      <td>30</td>\n",
       "      <td>7</td>\n",
       "      <td>4</td>\n",
       "      <td>28</td>\n",
       "    </tr>\n",
       "    <tr>\n",
       "      <th>814686</th>\n",
       "      <td>81468</td>\n",
       "      <td>420</td>\n",
       "      <td>8</td>\n",
       "      <td>0</td>\n",
       "      <td>33</td>\n",
       "      <td>34</td>\n",
       "      <td>20</td>\n",
       "      <td>42</td>\n",
       "      <td>39</td>\n",
       "      <td>7</td>\n",
       "      <td>5</td>\n",
       "      <td>32</td>\n",
       "    </tr>\n",
       "    <tr>\n",
       "      <th>814687</th>\n",
       "      <td>81468</td>\n",
       "      <td>480</td>\n",
       "      <td>8</td>\n",
       "      <td>1</td>\n",
       "      <td>44</td>\n",
       "      <td>38</td>\n",
       "      <td>25</td>\n",
       "      <td>48</td>\n",
       "      <td>47</td>\n",
       "      <td>7</td>\n",
       "      <td>7</td>\n",
       "      <td>57</td>\n",
       "    </tr>\n",
       "    <tr>\n",
       "      <th>814688</th>\n",
       "      <td>81468</td>\n",
       "      <td>540</td>\n",
       "      <td>8</td>\n",
       "      <td>7</td>\n",
       "      <td>46</td>\n",
       "      <td>42</td>\n",
       "      <td>32</td>\n",
       "      <td>60</td>\n",
       "      <td>55</td>\n",
       "      <td>9</td>\n",
       "      <td>9</td>\n",
       "      <td>61</td>\n",
       "    </tr>\n",
       "    <tr>\n",
       "      <th>814689</th>\n",
       "      <td>81468</td>\n",
       "      <td>600</td>\n",
       "      <td>9</td>\n",
       "      <td>7</td>\n",
       "      <td>51</td>\n",
       "      <td>49</td>\n",
       "      <td>33</td>\n",
       "      <td>70</td>\n",
       "      <td>61</td>\n",
       "      <td>9</td>\n",
       "      <td>10</td>\n",
       "      <td>66</td>\n",
       "    </tr>\n",
       "  </tbody>\n",
       "</table>\n",
       "</div>"
      ],
      "text/plain": [
       "          mid  time  player_0  player_1  player_2  player_3  player_4  \\\n",
       "814685  81468   360         8         0        22        26        14   \n",
       "814686  81468   420         8         0        33        34        20   \n",
       "814687  81468   480         8         1        44        38        25   \n",
       "814688  81468   540         8         7        46        42        32   \n",
       "814689  81468   600         9         7        51        49        33   \n",
       "\n",
       "        player_5  player_6  player_7  player_8  player_9  \n",
       "814685        32        30         7         4        28  \n",
       "814686        42        39         7         5        32  \n",
       "814687        48        47         7         7        57  \n",
       "814688        60        55         9         9        61  \n",
       "814689        70        61         9        10        66  "
      ]
     },
     "execution_count": 29,
     "metadata": {},
     "output_type": "execute_result"
    }
   ],
   "source": [
    "lh_data.tail()"
   ]
  },
  {
   "cell_type": "markdown",
   "metadata": {},
   "source": [
    "Иногда в данных встречаются пропуски. Способ обозначения пропусков либо прописывается в описании к данным, либо на месте пропуска после чтения данных оказывается значение [NaN](https://docs.scipy.org/doc/numpy-1.13.0/user/misc.html). Более подробно о работе с пропусками в Pandas можно прочитать например [здесь](http://pandas.pydata.org/pandas-docs/stable/missing_data.html). \n",
    "\n",
    "В данном датасете пропущенные значения обозначены как \"-1\". \n",
    "\n",
    "**(1 балл) Задание 1.** Обычно после загрузки датасета всегда необходима его некоторая предобработка. В данном случае она будет заключаться в следующем: \n",
    " - Найдите все признаки, имеющие пропущенные значения. Удалите из выборки все объекты с пропусками.\n",
    " - Обратите внимание, что не все признаки являются вещественными (числовыми). В начале мы будем работать только с вещественными признаками из *gold.csv*.\n",
    " - Возьмите из *gold.csv* и *lh.csv* данные по 600 секунде для каждого матча и подклейте их к *train.csv*. В этом вам могут помочь [булево индексирование](https://pandas.pydata.org/pandas-docs/stable/user_guide/indexing.html#boolean-indexing) и [join](https://pandas.pydata.org/pandas-docs/stable/reference/api/pandas.DataFrame.join.html?highlight=join#pandas.DataFrame.join) по индексу *mid*.\n",
    " - Постройте для команд radiant (player_{0,1,2,3,4}) и dire (player_{5,6,7,8,9}) значения суммы, максимума и минимума золота и ласт хитов на 600 секунде."
   ]
  },
  {
   "cell_type": "code",
   "execution_count": 30,
   "metadata": {},
   "outputs": [
    {
     "name": "stdout",
     "output_type": "stream",
     "text": [
      "(40734, 3)\n",
      "(814690, 12)\n",
      "(814690, 12)\n"
     ]
    }
   ],
   "source": [
    "print(train_data.shape)\n",
    "print(gold_data.shape)\n",
    "print(lh_data.shape)"
   ]
  },
  {
   "cell_type": "code",
   "execution_count": 31,
   "metadata": {},
   "outputs": [],
   "source": [
    "def check_and_drop_NA(df, na_value=None):\n",
    "    if na_value:\n",
    "        df.replace(na_value, np.nan, inplace=True)\n",
    "    \n",
    "    print(df.isna().sum()/df.shape[0])\n",
    "    \n",
    "    df = df.dropna()\n",
    "    print(f'Shape after dropping NA: {df.shape}')\n",
    "    return df"
   ]
  },
  {
   "cell_type": "code",
   "execution_count": 32,
   "metadata": {
    "scrolled": true
   },
   "outputs": [
    {
     "name": "stdout",
     "output_type": "stream",
     "text": [
      "mid            0.0\n",
      "patch          0.0\n",
      "radiant_win    0.0\n",
      "dtype: float64\n",
      "Shape after dropping NA: (40734, 3)\n"
     ]
    },
    {
     "data": {
      "text/plain": [
       "mid            int64\n",
       "patch          int64\n",
       "radiant_win     bool\n",
       "dtype: object"
      ]
     },
     "execution_count": 32,
     "metadata": {},
     "output_type": "execute_result"
    }
   ],
   "source": [
    "# check NAs (show in percents from all data)\n",
    "train_data = check_and_drop_NA(train_data, -1)\n",
    "train_data.dtypes"
   ]
  },
  {
   "cell_type": "code",
   "execution_count": 33,
   "metadata": {},
   "outputs": [
    {
     "name": "stdout",
     "output_type": "stream",
     "text": [
      "mid         0.000000\n",
      "time        0.000000\n",
      "player_0    0.352257\n",
      "player_1    0.311137\n",
      "player_2    0.311137\n",
      "player_3    0.311137\n",
      "player_4    0.311137\n",
      "player_5    0.311137\n",
      "player_6    0.311137\n",
      "player_7    0.311137\n",
      "player_8    0.311137\n",
      "player_9    0.311137\n",
      "dtype: float64\n",
      "Shape after dropping NA: (527710, 12)\n"
     ]
    },
    {
     "data": {
      "text/plain": [
       "mid           int64\n",
       "time          int64\n",
       "player_0    float64\n",
       "player_1    float64\n",
       "player_2    float64\n",
       "player_3    float64\n",
       "player_4    float64\n",
       "player_5    float64\n",
       "player_6    float64\n",
       "player_7    float64\n",
       "player_8    float64\n",
       "player_9    float64\n",
       "dtype: object"
      ]
     },
     "execution_count": 33,
     "metadata": {},
     "output_type": "execute_result"
    }
   ],
   "source": [
    "gold_data = check_and_drop_NA(gold_data, -1)\n",
    "gold_data.dtypes"
   ]
  },
  {
   "cell_type": "code",
   "execution_count": 34,
   "metadata": {},
   "outputs": [
    {
     "name": "stdout",
     "output_type": "stream",
     "text": [
      "mid         0.000000\n",
      "time        0.000000\n",
      "player_0    0.352257\n",
      "player_1    0.311137\n",
      "player_2    0.311137\n",
      "player_3    0.311137\n",
      "player_4    0.311137\n",
      "player_5    0.311137\n",
      "player_6    0.311137\n",
      "player_7    0.311137\n",
      "player_8    0.311137\n",
      "player_9    0.311137\n",
      "dtype: float64\n",
      "Shape after dropping NA: (527710, 12)\n"
     ]
    },
    {
     "data": {
      "text/plain": [
       "mid           int64\n",
       "time          int64\n",
       "player_0    float64\n",
       "player_1    float64\n",
       "player_2    float64\n",
       "player_3    float64\n",
       "player_4    float64\n",
       "player_5    float64\n",
       "player_6    float64\n",
       "player_7    float64\n",
       "player_8    float64\n",
       "player_9    float64\n",
       "dtype: object"
      ]
     },
     "execution_count": 34,
     "metadata": {},
     "output_type": "execute_result"
    }
   ],
   "source": [
    "lh_data = check_and_drop_NA(lh_data, -1)\n",
    "lh_data.dtypes"
   ]
  },
  {
   "cell_type": "code",
   "execution_count": 35,
   "metadata": {},
   "outputs": [
    {
     "name": "stdout",
     "output_type": "stream",
     "text": [
      "          mid  time  player_0  player_1  player_2  player_3  player_4  \\\n",
      "80049    8004   600    3616.0    2207.0    2154.0    3024.0    3098.0   \n",
      "120489  12048   600    4080.0    2119.0    3029.0    1325.0    1312.0   \n",
      "150269  15026   600    1000.0    3174.0    2027.0    1000.0    1270.0   \n",
      "162049  16204   600    3857.0    4060.0    2048.0    2309.0    1454.0   \n",
      "218749  21874   600    4139.0    3482.0    4223.0    1877.0    2267.0   \n",
      "\n",
      "        player_5  player_6  player_7  player_8  player_9  \n",
      "80049     1626.0    3628.0    2010.0    2498.0    1472.0  \n",
      "120489    3801.0    3258.0    2053.0    1496.0    2181.0  \n",
      "150269    3672.0    4371.0    2008.0    3037.0    3623.0  \n",
      "162049    1946.0    2994.0    2097.0    4697.0    4052.0  \n",
      "218749    3386.0    3200.0    1570.0    2658.0    1531.0  \n",
      "\n",
      "          mid  time  player_0  player_1  player_2  player_3  player_4  \\\n",
      "80049    8004   600      39.0      14.0      12.0      31.0      36.0   \n",
      "120489  12048   600      40.0      20.0      48.0       8.0       6.0   \n",
      "150269  15026   600       0.0      24.0      14.0       0.0       3.0   \n",
      "162049  16204   600      41.0      50.0      19.0       2.0       8.0   \n",
      "218749  21874   600      50.0      40.0      36.0      12.0      13.0   \n",
      "\n",
      "        player_5  player_6  player_7  player_8  player_9  \n",
      "80049       14.0      72.0      17.0      24.0      11.0  \n",
      "120489      51.0      22.0      12.0       2.0      20.0  \n",
      "150269      26.0      33.0       8.0      17.0      44.0  \n",
      "162049       0.0      14.0      26.0      56.0      59.0  \n",
      "218749      52.0      43.0       6.0      10.0       8.0  \n",
      "\n"
     ]
    }
   ],
   "source": [
    "gold_600 = gold_data[gold_data['time'] == 600]\n",
    "lh_600 = lh_data[lh_data['time'] == 600]\n",
    "\n",
    "print(gold_600.head())\n",
    "print()\n",
    "print(lh_600.head())\n",
    "print()"
   ]
  },
  {
   "cell_type": "code",
   "execution_count": 36,
   "metadata": {},
   "outputs": [
    {
     "name": "stdout",
     "output_type": "stream",
     "text": [
      "(26252, 25)\n"
     ]
    },
    {
     "data": {
      "text/html": [
       "<div>\n",
       "<style scoped>\n",
       "    .dataframe tbody tr th:only-of-type {\n",
       "        vertical-align: middle;\n",
       "    }\n",
       "\n",
       "    .dataframe tbody tr th {\n",
       "        vertical-align: top;\n",
       "    }\n",
       "\n",
       "    .dataframe thead th {\n",
       "        text-align: right;\n",
       "    }\n",
       "</style>\n",
       "<table border=\"1\" class=\"dataframe\">\n",
       "  <thead>\n",
       "    <tr style=\"text-align: right;\">\n",
       "      <th></th>\n",
       "      <th>mid</th>\n",
       "      <th>patch</th>\n",
       "      <th>radiant_win</th>\n",
       "      <th>time</th>\n",
       "      <th>player_0</th>\n",
       "      <th>player_1</th>\n",
       "      <th>player_2</th>\n",
       "      <th>player_3</th>\n",
       "      <th>player_4</th>\n",
       "      <th>player_5</th>\n",
       "      <th>...</th>\n",
       "      <th>player_0_lh</th>\n",
       "      <th>player_1_lh</th>\n",
       "      <th>player_2_lh</th>\n",
       "      <th>player_3_lh</th>\n",
       "      <th>player_4_lh</th>\n",
       "      <th>player_5_lh</th>\n",
       "      <th>player_6_lh</th>\n",
       "      <th>player_7_lh</th>\n",
       "      <th>player_8_lh</th>\n",
       "      <th>player_9_lh</th>\n",
       "    </tr>\n",
       "  </thead>\n",
       "  <tbody>\n",
       "    <tr>\n",
       "      <th>0</th>\n",
       "      <td>48434</td>\n",
       "      <td>25</td>\n",
       "      <td>True</td>\n",
       "      <td>600</td>\n",
       "      <td>1372.0</td>\n",
       "      <td>3120.0</td>\n",
       "      <td>3706.0</td>\n",
       "      <td>1449.0</td>\n",
       "      <td>2009.0</td>\n",
       "      <td>1014.0</td>\n",
       "      <td>...</td>\n",
       "      <td>2.0</td>\n",
       "      <td>51.0</td>\n",
       "      <td>61.0</td>\n",
       "      <td>4.0</td>\n",
       "      <td>25.0</td>\n",
       "      <td>2.0</td>\n",
       "      <td>44.0</td>\n",
       "      <td>52.0</td>\n",
       "      <td>0.0</td>\n",
       "      <td>10.0</td>\n",
       "    </tr>\n",
       "    <tr>\n",
       "      <th>1</th>\n",
       "      <td>37074</td>\n",
       "      <td>18</td>\n",
       "      <td>False</td>\n",
       "      <td>600</td>\n",
       "      <td>2014.0</td>\n",
       "      <td>1393.0</td>\n",
       "      <td>1515.0</td>\n",
       "      <td>4106.0</td>\n",
       "      <td>3579.0</td>\n",
       "      <td>3349.0</td>\n",
       "      <td>...</td>\n",
       "      <td>9.0</td>\n",
       "      <td>6.0</td>\n",
       "      <td>12.0</td>\n",
       "      <td>60.0</td>\n",
       "      <td>40.0</td>\n",
       "      <td>55.0</td>\n",
       "      <td>69.0</td>\n",
       "      <td>17.0</td>\n",
       "      <td>42.0</td>\n",
       "      <td>8.0</td>\n",
       "    </tr>\n",
       "    <tr>\n",
       "      <th>4</th>\n",
       "      <td>69147</td>\n",
       "      <td>41</td>\n",
       "      <td>False</td>\n",
       "      <td>600</td>\n",
       "      <td>1134.0</td>\n",
       "      <td>3570.0</td>\n",
       "      <td>3213.0</td>\n",
       "      <td>2301.0</td>\n",
       "      <td>1616.0</td>\n",
       "      <td>2225.0</td>\n",
       "      <td>...</td>\n",
       "      <td>0.0</td>\n",
       "      <td>75.0</td>\n",
       "      <td>53.0</td>\n",
       "      <td>31.0</td>\n",
       "      <td>10.0</td>\n",
       "      <td>14.0</td>\n",
       "      <td>67.0</td>\n",
       "      <td>44.0</td>\n",
       "      <td>44.0</td>\n",
       "      <td>7.0</td>\n",
       "    </tr>\n",
       "    <tr>\n",
       "      <th>5</th>\n",
       "      <td>33300</td>\n",
       "      <td>16</td>\n",
       "      <td>True</td>\n",
       "      <td>600</td>\n",
       "      <td>4143.0</td>\n",
       "      <td>2921.0</td>\n",
       "      <td>2443.0</td>\n",
       "      <td>4002.0</td>\n",
       "      <td>1868.0</td>\n",
       "      <td>2635.0</td>\n",
       "      <td>...</td>\n",
       "      <td>52.0</td>\n",
       "      <td>31.0</td>\n",
       "      <td>10.0</td>\n",
       "      <td>48.0</td>\n",
       "      <td>6.0</td>\n",
       "      <td>31.0</td>\n",
       "      <td>4.0</td>\n",
       "      <td>46.0</td>\n",
       "      <td>7.0</td>\n",
       "      <td>92.0</td>\n",
       "    </tr>\n",
       "    <tr>\n",
       "      <th>7</th>\n",
       "      <td>65872</td>\n",
       "      <td>40</td>\n",
       "      <td>False</td>\n",
       "      <td>600</td>\n",
       "      <td>1881.0</td>\n",
       "      <td>1644.0</td>\n",
       "      <td>5251.0</td>\n",
       "      <td>4487.0</td>\n",
       "      <td>2861.0</td>\n",
       "      <td>6982.0</td>\n",
       "      <td>...</td>\n",
       "      <td>6.0</td>\n",
       "      <td>5.0</td>\n",
       "      <td>97.0</td>\n",
       "      <td>56.0</td>\n",
       "      <td>34.0</td>\n",
       "      <td>94.0</td>\n",
       "      <td>62.0</td>\n",
       "      <td>26.0</td>\n",
       "      <td>2.0</td>\n",
       "      <td>7.0</td>\n",
       "    </tr>\n",
       "  </tbody>\n",
       "</table>\n",
       "<p>5 rows × 25 columns</p>\n",
       "</div>"
      ],
      "text/plain": [
       "     mid  patch  radiant_win  time  player_0  player_1  player_2  player_3  \\\n",
       "0  48434     25         True   600    1372.0    3120.0    3706.0    1449.0   \n",
       "1  37074     18        False   600    2014.0    1393.0    1515.0    4106.0   \n",
       "4  69147     41        False   600    1134.0    3570.0    3213.0    2301.0   \n",
       "5  33300     16         True   600    4143.0    2921.0    2443.0    4002.0   \n",
       "7  65872     40        False   600    1881.0    1644.0    5251.0    4487.0   \n",
       "\n",
       "   player_4  player_5  ...  player_0_lh  player_1_lh  player_2_lh  \\\n",
       "0    2009.0    1014.0  ...          2.0         51.0         61.0   \n",
       "1    3579.0    3349.0  ...          9.0          6.0         12.0   \n",
       "4    1616.0    2225.0  ...          0.0         75.0         53.0   \n",
       "5    1868.0    2635.0  ...         52.0         31.0         10.0   \n",
       "7    2861.0    6982.0  ...          6.0          5.0         97.0   \n",
       "\n",
       "   player_3_lh  player_4_lh  player_5_lh  player_6_lh  player_7_lh  \\\n",
       "0          4.0         25.0          2.0         44.0         52.0   \n",
       "1         60.0         40.0         55.0         69.0         17.0   \n",
       "4         31.0         10.0         14.0         67.0         44.0   \n",
       "5         48.0          6.0         31.0          4.0         46.0   \n",
       "7         56.0         34.0         94.0         62.0         26.0   \n",
       "\n",
       "   player_8_lh  player_9_lh  \n",
       "0          0.0         10.0  \n",
       "1         42.0          8.0  \n",
       "4         44.0          7.0  \n",
       "5          7.0         92.0  \n",
       "7          2.0          7.0  \n",
       "\n",
       "[5 rows x 25 columns]"
      ]
     },
     "execution_count": 36,
     "metadata": {},
     "output_type": "execute_result"
    }
   ],
   "source": [
    "train_proceeded = train_data.join(gold_600.set_index('mid'), on='mid', rsuffix='_gold', how='inner')\n",
    "train_proceeded = train_proceeded.join(lh_600.set_index('mid'), on='mid', rsuffix='_lh', how='inner')\n",
    "print(train_proceeded.shape)\n",
    "train_proceeded.head()"
   ]
  },
  {
   "cell_type": "code",
   "execution_count": 37,
   "metadata": {},
   "outputs": [],
   "source": [
    "train_proceeded.drop(['time', 'time_lh'], axis=1, inplace=True)"
   ]
  },
  {
   "cell_type": "code",
   "execution_count": 38,
   "metadata": {},
   "outputs": [],
   "source": [
    "RADIANT_TEAM = [f'player_{i}' for i in range(5)]\n",
    "DIRE_TEAM = [f'player_{i}' for i in range(5, 9)]"
   ]
  },
  {
   "cell_type": "code",
   "execution_count": 39,
   "metadata": {},
   "outputs": [],
   "source": [
    "# count sum, min and max for gold for both teams\n",
    "train_proceeded['radiant_gold_sum'] = train_proceeded[RADIANT_TEAM].sum(axis=1)\n",
    "train_proceeded['radiant_gold_min'] = train_proceeded[RADIANT_TEAM].min(axis=1)\n",
    "train_proceeded['radiant_gold_max'] = train_proceeded[RADIANT_TEAM].max(axis=1)\n",
    "\n",
    "train_proceeded['dire_gold_sum'] = train_proceeded[DIRE_TEAM].sum(axis=1)\n",
    "train_proceeded['dire_gold_min'] = train_proceeded[DIRE_TEAM].min(axis=1)\n",
    "train_proceeded['dire_gold_max'] = train_proceeded[DIRE_TEAM].max(axis=1)"
   ]
  },
  {
   "cell_type": "code",
   "execution_count": 40,
   "metadata": {},
   "outputs": [],
   "source": [
    "# count sum, min and max for lh for both teams\n",
    "train_proceeded['radiant_lh_sum'] = train_proceeded[[col + '_lh' for col in RADIANT_TEAM]].sum(axis=1)\n",
    "train_proceeded['radiant_lh_min'] = train_proceeded[[col + '_lh' for col in RADIANT_TEAM]].min(axis=1)\n",
    "train_proceeded['radiant_lh_max'] = train_proceeded[[col + '_lh' for col in RADIANT_TEAM]].max(axis=1)\n",
    "\n",
    "train_proceeded['dire_lh_sum'] = train_proceeded[[col + '_lh' for col in DIRE_TEAM]].sum(axis=1)\n",
    "train_proceeded['dire_lh_min'] = train_proceeded[[col + '_lh' for col in DIRE_TEAM]].min(axis=1)\n",
    "train_proceeded['dire_lh_max'] = train_proceeded[[col + '_lh' for col in DIRE_TEAM]].max(axis=1)"
   ]
  },
  {
   "cell_type": "code",
   "execution_count": 41,
   "metadata": {},
   "outputs": [
    {
     "data": {
      "text/html": [
       "<div>\n",
       "<style scoped>\n",
       "    .dataframe tbody tr th:only-of-type {\n",
       "        vertical-align: middle;\n",
       "    }\n",
       "\n",
       "    .dataframe tbody tr th {\n",
       "        vertical-align: top;\n",
       "    }\n",
       "\n",
       "    .dataframe thead th {\n",
       "        text-align: right;\n",
       "    }\n",
       "</style>\n",
       "<table border=\"1\" class=\"dataframe\">\n",
       "  <thead>\n",
       "    <tr style=\"text-align: right;\">\n",
       "      <th></th>\n",
       "      <th>mid</th>\n",
       "      <th>patch</th>\n",
       "      <th>radiant_win</th>\n",
       "      <th>player_0</th>\n",
       "      <th>player_1</th>\n",
       "      <th>player_2</th>\n",
       "      <th>player_3</th>\n",
       "      <th>player_4</th>\n",
       "      <th>player_5</th>\n",
       "      <th>player_6</th>\n",
       "      <th>...</th>\n",
       "      <th>radiant_gold_max</th>\n",
       "      <th>dire_gold_sum</th>\n",
       "      <th>dire_gold_min</th>\n",
       "      <th>dire_gold_max</th>\n",
       "      <th>radiant_lh_sum</th>\n",
       "      <th>radiant_lh_min</th>\n",
       "      <th>radiant_lh_max</th>\n",
       "      <th>dire_lh_sum</th>\n",
       "      <th>dire_lh_min</th>\n",
       "      <th>dire_lh_max</th>\n",
       "    </tr>\n",
       "  </thead>\n",
       "  <tbody>\n",
       "    <tr>\n",
       "      <th>0</th>\n",
       "      <td>48434</td>\n",
       "      <td>25</td>\n",
       "      <td>True</td>\n",
       "      <td>1372.0</td>\n",
       "      <td>3120.0</td>\n",
       "      <td>3706.0</td>\n",
       "      <td>1449.0</td>\n",
       "      <td>2009.0</td>\n",
       "      <td>1014.0</td>\n",
       "      <td>2757.0</td>\n",
       "      <td>...</td>\n",
       "      <td>3706.0</td>\n",
       "      <td>8450.0</td>\n",
       "      <td>1014.0</td>\n",
       "      <td>3024.0</td>\n",
       "      <td>143.0</td>\n",
       "      <td>2.0</td>\n",
       "      <td>61.0</td>\n",
       "      <td>98.0</td>\n",
       "      <td>0.0</td>\n",
       "      <td>52.0</td>\n",
       "    </tr>\n",
       "    <tr>\n",
       "      <th>1</th>\n",
       "      <td>37074</td>\n",
       "      <td>18</td>\n",
       "      <td>False</td>\n",
       "      <td>2014.0</td>\n",
       "      <td>1393.0</td>\n",
       "      <td>1515.0</td>\n",
       "      <td>4106.0</td>\n",
       "      <td>3579.0</td>\n",
       "      <td>3349.0</td>\n",
       "      <td>3884.0</td>\n",
       "      <td>...</td>\n",
       "      <td>4106.0</td>\n",
       "      <td>12566.0</td>\n",
       "      <td>1947.0</td>\n",
       "      <td>3884.0</td>\n",
       "      <td>127.0</td>\n",
       "      <td>6.0</td>\n",
       "      <td>60.0</td>\n",
       "      <td>183.0</td>\n",
       "      <td>17.0</td>\n",
       "      <td>69.0</td>\n",
       "    </tr>\n",
       "    <tr>\n",
       "      <th>4</th>\n",
       "      <td>69147</td>\n",
       "      <td>41</td>\n",
       "      <td>False</td>\n",
       "      <td>1134.0</td>\n",
       "      <td>3570.0</td>\n",
       "      <td>3213.0</td>\n",
       "      <td>2301.0</td>\n",
       "      <td>1616.0</td>\n",
       "      <td>2225.0</td>\n",
       "      <td>3825.0</td>\n",
       "      <td>...</td>\n",
       "      <td>3570.0</td>\n",
       "      <td>12828.0</td>\n",
       "      <td>2225.0</td>\n",
       "      <td>3825.0</td>\n",
       "      <td>169.0</td>\n",
       "      <td>0.0</td>\n",
       "      <td>75.0</td>\n",
       "      <td>169.0</td>\n",
       "      <td>14.0</td>\n",
       "      <td>67.0</td>\n",
       "    </tr>\n",
       "    <tr>\n",
       "      <th>5</th>\n",
       "      <td>33300</td>\n",
       "      <td>16</td>\n",
       "      <td>True</td>\n",
       "      <td>4143.0</td>\n",
       "      <td>2921.0</td>\n",
       "      <td>2443.0</td>\n",
       "      <td>4002.0</td>\n",
       "      <td>1868.0</td>\n",
       "      <td>2635.0</td>\n",
       "      <td>1737.0</td>\n",
       "      <td>...</td>\n",
       "      <td>4143.0</td>\n",
       "      <td>9820.0</td>\n",
       "      <td>1663.0</td>\n",
       "      <td>3785.0</td>\n",
       "      <td>147.0</td>\n",
       "      <td>6.0</td>\n",
       "      <td>52.0</td>\n",
       "      <td>88.0</td>\n",
       "      <td>4.0</td>\n",
       "      <td>46.0</td>\n",
       "    </tr>\n",
       "    <tr>\n",
       "      <th>7</th>\n",
       "      <td>65872</td>\n",
       "      <td>40</td>\n",
       "      <td>False</td>\n",
       "      <td>1881.0</td>\n",
       "      <td>1644.0</td>\n",
       "      <td>5251.0</td>\n",
       "      <td>4487.0</td>\n",
       "      <td>2861.0</td>\n",
       "      <td>6982.0</td>\n",
       "      <td>3333.0</td>\n",
       "      <td>...</td>\n",
       "      <td>5251.0</td>\n",
       "      <td>13948.0</td>\n",
       "      <td>1339.0</td>\n",
       "      <td>6982.0</td>\n",
       "      <td>198.0</td>\n",
       "      <td>5.0</td>\n",
       "      <td>97.0</td>\n",
       "      <td>184.0</td>\n",
       "      <td>2.0</td>\n",
       "      <td>94.0</td>\n",
       "    </tr>\n",
       "  </tbody>\n",
       "</table>\n",
       "<p>5 rows × 35 columns</p>\n",
       "</div>"
      ],
      "text/plain": [
       "     mid  patch  radiant_win  player_0  player_1  player_2  player_3  \\\n",
       "0  48434     25         True    1372.0    3120.0    3706.0    1449.0   \n",
       "1  37074     18        False    2014.0    1393.0    1515.0    4106.0   \n",
       "4  69147     41        False    1134.0    3570.0    3213.0    2301.0   \n",
       "5  33300     16         True    4143.0    2921.0    2443.0    4002.0   \n",
       "7  65872     40        False    1881.0    1644.0    5251.0    4487.0   \n",
       "\n",
       "   player_4  player_5  player_6  ...  radiant_gold_max  dire_gold_sum  \\\n",
       "0    2009.0    1014.0    2757.0  ...            3706.0         8450.0   \n",
       "1    3579.0    3349.0    3884.0  ...            4106.0        12566.0   \n",
       "4    1616.0    2225.0    3825.0  ...            3570.0        12828.0   \n",
       "5    1868.0    2635.0    1737.0  ...            4143.0         9820.0   \n",
       "7    2861.0    6982.0    3333.0  ...            5251.0        13948.0   \n",
       "\n",
       "   dire_gold_min  dire_gold_max  radiant_lh_sum  radiant_lh_min  \\\n",
       "0         1014.0         3024.0           143.0             2.0   \n",
       "1         1947.0         3884.0           127.0             6.0   \n",
       "4         2225.0         3825.0           169.0             0.0   \n",
       "5         1663.0         3785.0           147.0             6.0   \n",
       "7         1339.0         6982.0           198.0             5.0   \n",
       "\n",
       "   radiant_lh_max  dire_lh_sum  dire_lh_min  dire_lh_max  \n",
       "0            61.0         98.0          0.0         52.0  \n",
       "1            60.0        183.0         17.0         69.0  \n",
       "4            75.0        169.0         14.0         67.0  \n",
       "5            52.0         88.0          4.0         46.0  \n",
       "7            97.0        184.0          2.0         94.0  \n",
       "\n",
       "[5 rows x 35 columns]"
      ]
     },
     "execution_count": 41,
     "metadata": {},
     "output_type": "execute_result"
    }
   ],
   "source": [
    "train_proceeded.head()"
   ]
  },
  {
   "cell_type": "markdown",
   "metadata": {},
   "source": [
    "### (7 баллов) Обучение классификаторов на вещественных признаках\n",
    "\n",
    "В данном разделе будет необходимо работать только с вещественными признаками и целевой переменной.\n",
    "\n",
    "В начале посмотрим как работает подбор гиперпараметров по сетке и как влияет на качество разбиение выборки. Сейчас и далее будем рассматривать 4 алгоритма:\n",
    " - [kNN](http://scikit-learn.org/stable/modules/generated/sklearn.neighbors.KNeighborsClassifier.html)\n",
    " - [DecisonTree](http://scikit-learn.org/stable/modules/generated/sklearn.tree.DecisionTreeClassifier.html#sklearn.tree.DecisionTreeClassifier)\n",
    " - [SGD Linear Classifier](http://scikit-learn.org/stable/modules/generated/sklearn.linear_model.SGDClassifier.html)\n",
    " - [RandomForest](http://scikit-learn.org/stable/modules/generated/sklearn.ensemble.RandomForestClassifier.html)\n",
    "\n",
    "Для начала у первых трёх алгоритмов выберем один гиперпараметр, который будем оптимизировать:\n",
    " - kNN — число соседей (*n_neighbors*)\n",
    " - DecisonTree — глубина дерева (*max_depth*)\n",
    " - SGD Linear Classifier — оптимизируемая функция (*loss*)\n",
    " \n",
    "Значения остальных гиперпараметров оставляйте по умолчанию. Для подбора гиперпараметров воспользуйтесь перебором по сетке, который реализован в классе [GridSearchCV](http://scikit-learn.org/stable/modules/generated/sklearn.model_selection.GridSearchCV.html#sklearn.model_selection.GridSearchCV). В качестве схемы кросс-валидации используйте 5-Fold CV, которую можно задать с помощью класса [KFoldCV](http://scikit-learn.org/stable/modules/generated/sklearn.model_selection.KFold.html#sklearn.model_selection.KFold).\n",
    "\n",
    "![](https://i.stack.imgur.com/YWgro.gif)"
   ]
  },
  {
   "cell_type": "markdown",
   "metadata": {},
   "source": [
    "**(1.5 балла) Задание 2.** Для каждого алгоритма подберите оптимальные значения указанных гиперпараметров. Постройте график среднего значения качества по кросс-валидации алгоритма при заданном значении гиперпараметра, на котором также отобразите доверительный интервал. \n",
    "\n",
    "Для получения значения качества на каждом фолде, среднего значение качества и другой полезной информации можно воспользоваться полем [*cv results_*](http://scikit-learn.org/stable/modules/generated/sklearn.model_selection.GridSearchCV.html#sklearn.model_selection.GridSearchCV)\n",
    "\n",
    "У какого алгоритма наибольшее среднее значение качества? Наибольший доверительный интервал?"
   ]
  },
  {
   "cell_type": "code",
   "execution_count": 145,
   "metadata": {},
   "outputs": [],
   "source": [
    "from sklearn.neighbors import KNeighborsClassifier as KNN\n",
    "from sklearn.tree import DecisionTreeClassifier\n",
    "from sklearn.linear_model import SGDClassifier\n",
    "\n",
    "from sklearn.model_selection import GridSearchCV, RandomizedSearchCV, KFold, train_test_split"
   ]
  },
  {
   "cell_type": "code",
   "execution_count": 112,
   "metadata": {},
   "outputs": [],
   "source": [
    "def plot_cv_results(means, std, param_name='', param_range=None, algo_name=''):\n",
    "    plt.figure(figsize=(12, 8))\n",
    "    \n",
    "    if param_range:\n",
    "        plt.plot(param_range, means-std, color='blue', linestyle='dashed')\n",
    "        plt.plot(param_range, means, marker='o', color='red')\n",
    "        plt.plot(param_range, means+std, color='blue', linestyle='dashed')\n",
    "        plt.xticks(param_range)\n",
    "    else:\n",
    "        plt.plot(means-std, color='blue', linestyle='dashed')\n",
    "        plt.plot(means, marker='o', color='red')\n",
    "        plt.plot(means+std, color='blue', linestyle='dashed')\n",
    "        \n",
    "    if param_name:\n",
    "        plt.xlabel(param_name)\n",
    "    \n",
    "    plt.ylabel('ROC_AUC score')\n",
    "    \n",
    "    title = f'GridCV results for {algo_name}' if algo_name else 'GridCV results'\n",
    "    plt.title(title)\n",
    "    "
   ]
  },
  {
   "cell_type": "code",
   "execution_count": 159,
   "metadata": {},
   "outputs": [],
   "source": [
    "def cross_validation(model, X, y, k_folds=5, param_grid=None, scoring='roc_auc', randomized=False, \n",
    "                     random_state=42, n_iter=15, n_jobs=1):\n",
    "    kf = KFold(k_folds, shuffle=True, random_state=42)\n",
    "    if randomized:\n",
    "        clf = RandomizedSearchCV(model, param_distributions=param_grid, n_iter=n_iter, scoring=scoring, \n",
    "                                 cv=kf, random_state=random_state, n_jobs=n_jobs)\n",
    "        clf.fit(X, y)\n",
    "    else:\n",
    "        clf = GridSearchCV(model, cv=kf, param_grid=param_grid, scoring=scoring, verbose=1, n_jobs=n_jobs)\n",
    "        clf.fit(X, y)\n",
    "    \n",
    "    means = clf.cv_results_['mean_test_score']\n",
    "    std = clf.cv_results_['std_test_score']\n",
    "    return clf.best_params_, clf.best_score_, means, std, \n",
    "    "
   ]
  },
  {
   "cell_type": "code",
   "execution_count": 45,
   "metadata": {},
   "outputs": [],
   "source": [
    "X = train_proceeded[['radiant_gold_sum', 'radiant_gold_min', 'radiant_gold_max',\n",
    "                     'dire_gold_sum', 'dire_gold_min', 'dire_gold_max',\n",
    "                     'radiant_lh_sum', 'radiant_lh_min', 'radiant_lh_max',\n",
    "                     'dire_lh_sum', 'dire_lh_min', 'dire_lh_max']]\n",
    "y = train_proceeded['radiant_win']"
   ]
  },
  {
   "cell_type": "code",
   "execution_count": 46,
   "metadata": {},
   "outputs": [
    {
     "name": "stdout",
     "output_type": "stream",
     "text": [
      "Fitting 5 folds for each of 30 candidates, totalling 150 fits\n"
     ]
    },
    {
     "name": "stderr",
     "output_type": "stream",
     "text": [
      "[Parallel(n_jobs=1)]: Using backend SequentialBackend with 1 concurrent workers.\n",
      "[Parallel(n_jobs=1)]: Done 150 out of 150 | elapsed:  1.1min finished\n"
     ]
    }
   ],
   "source": [
    "knn = KNN()\n",
    "best_k, best_knn_score, knn_means, knn_stds = cross_validation(knn, X, y, param_grid={'n_neighbors': range(5, 151, 5)})"
   ]
  },
  {
   "cell_type": "code",
   "execution_count": 47,
   "metadata": {},
   "outputs": [
    {
     "data": {
      "image/png": "[encoded data removed]",
      "text/plain": [
       "<Figure size 864x576 with 1 Axes>"
      ]
     },
     "metadata": {
      "needs_background": "light"
     },
     "output_type": "display_data"
    }
   ],
   "source": [
    "plot_cv_results(knn_means, knn_stds, 'n_neighbors', range(5, 151, 5), 'KNN')"
   ]
  },
  {
   "cell_type": "code",
   "execution_count": 48,
   "metadata": {},
   "outputs": [
    {
     "name": "stdout",
     "output_type": "stream",
     "text": [
      "150\n"
     ]
    }
   ],
   "source": [
    "print(best_k['n_neighbors'])"
   ]
  },
  {
   "cell_type": "code",
   "execution_count": 49,
   "metadata": {},
   "outputs": [
    {
     "name": "stdout",
     "output_type": "stream",
     "text": [
      "Fitting 5 folds for each of 14 candidates, totalling 70 fits\n"
     ]
    },
    {
     "name": "stderr",
     "output_type": "stream",
     "text": [
      "[Parallel(n_jobs=1)]: Using backend SequentialBackend with 1 concurrent workers.\n",
      "[Parallel(n_jobs=1)]: Done  70 out of  70 | elapsed:    7.5s finished\n"
     ]
    }
   ],
   "source": [
    "dt = DecisionTreeClassifier()\n",
    "best_depth, best_dt_score, dt_means, dt_stds = cross_validation(dt, X, y, param_grid={'max_depth': range(1, 15)})"
   ]
  },
  {
   "cell_type": "code",
   "execution_count": 108,
   "metadata": {
    "scrolled": false
   },
   "outputs": [
    {
     "data": {
      "image/png": "[encoded data removed]",
      "text/plain": [
       "<Figure size 864x576 with 1 Axes>"
      ]
     },
     "metadata": {
      "needs_background": "light"
     },
     "output_type": "display_data"
    }
   ],
   "source": [
    "plot_cv_results(dt_means, dt_stds, 'max_depth', range(1, 15), 'DecisionTree')"
   ]
  },
  {
   "cell_type": "code",
   "execution_count": 51,
   "metadata": {},
   "outputs": [
    {
     "name": "stdout",
     "output_type": "stream",
     "text": [
      "5\n"
     ]
    }
   ],
   "source": [
    "print(best_depth['max_depth'])"
   ]
  },
  {
   "cell_type": "code",
   "execution_count": 52,
   "metadata": {},
   "outputs": [
    {
     "name": "stdout",
     "output_type": "stream",
     "text": [
      "Fitting 5 folds for each of 5 candidates, totalling 25 fits\n"
     ]
    },
    {
     "name": "stderr",
     "output_type": "stream",
     "text": [
      "[Parallel(n_jobs=1)]: Using backend SequentialBackend with 1 concurrent workers.\n",
      "[Parallel(n_jobs=1)]: Done  25 out of  25 | elapsed:   14.6s finished\n"
     ]
    }
   ],
   "source": [
    "sgd = SGDClassifier()\n",
    "best_loss, best_sgd_score, sgd_means, sgd_stds = cross_validation(sgd, X, y, param_grid={'loss': ['hinge', 'log', 'modified_huber', 'squared_hinge', 'perceptron']})"
   ]
  },
  {
   "cell_type": "code",
   "execution_count": 109,
   "metadata": {},
   "outputs": [
    {
     "data": {
      "image/png": "[encoded data removed]",
      "text/plain": [
       "<Figure size 864x576 with 1 Axes>"
      ]
     },
     "metadata": {
      "needs_background": "light"
     },
     "output_type": "display_data"
    }
   ],
   "source": [
    "plot_cv_results(sgd_means, sgd_stds, 'loss', ['hinge', 'log', 'modified_huber', 'squared_hinge', 'perceptron'], 'SGD')"
   ]
  },
  {
   "cell_type": "code",
   "execution_count": 54,
   "metadata": {},
   "outputs": [
    {
     "name": "stdout",
     "output_type": "stream",
     "text": [
      "modified_huber\n"
     ]
    }
   ],
   "source": [
    "print(best_loss['loss'])"
   ]
  },
  {
   "cell_type": "code",
   "execution_count": 77,
   "metadata": {},
   "outputs": [
    {
     "data": {
      "text/html": [
       "<div>\n",
       "<style scoped>\n",
       "    .dataframe tbody tr th:only-of-type {\n",
       "        vertical-align: middle;\n",
       "    }\n",
       "\n",
       "    .dataframe tbody tr th {\n",
       "        vertical-align: top;\n",
       "    }\n",
       "\n",
       "    .dataframe thead th {\n",
       "        text-align: right;\n",
       "    }\n",
       "</style>\n",
       "<table border=\"1\" class=\"dataframe\">\n",
       "  <thead>\n",
       "    <tr style=\"text-align: right;\">\n",
       "      <th></th>\n",
       "      <th>Algo</th>\n",
       "      <th>Best parameter</th>\n",
       "      <th>Mean ROC_AUC</th>\n",
       "    </tr>\n",
       "  </thead>\n",
       "  <tbody>\n",
       "    <tr>\n",
       "      <th>2</th>\n",
       "      <td>SGD</td>\n",
       "      <td>{'loss': 'modified_huber'}</td>\n",
       "      <td>0.758781</td>\n",
       "    </tr>\n",
       "    <tr>\n",
       "      <th>0</th>\n",
       "      <td>KNN</td>\n",
       "      <td>{'n_neighbors': 150}</td>\n",
       "      <td>0.755883</td>\n",
       "    </tr>\n",
       "    <tr>\n",
       "      <th>1</th>\n",
       "      <td>Decision Tree</td>\n",
       "      <td>{'max_depth': 5}</td>\n",
       "      <td>0.744950</td>\n",
       "    </tr>\n",
       "  </tbody>\n",
       "</table>\n",
       "</div>"
      ],
      "text/plain": [
       "            Algo              Best parameter  Mean ROC_AUC\n",
       "2            SGD  {'loss': 'modified_huber'}      0.758781\n",
       "0            KNN        {'n_neighbors': 150}      0.755883\n",
       "1  Decision Tree            {'max_depth': 5}      0.744950"
      ]
     },
     "execution_count": 77,
     "metadata": {},
     "output_type": "execute_result"
    }
   ],
   "source": [
    "result_first = pd.DataFrame({\n",
    "    'Algo': ['KNN', 'Decision Tree', 'SGD'],\n",
    "    'Best parameter': [best_k, best_depth, best_loss],\n",
    "    'Mean ROC_AUC': [best_knn_score, best_dt_score, best_sgd_score]\n",
    "}).sort_values(by='Mean ROC_AUC', ascending=False)\n",
    "result_first"
   ]
  },
  {
   "cell_type": "markdown",
   "metadata": {},
   "source": [
    "Алгоритм с наибольшим значением качетсва - SGDClassifier. Оно достигается при функции потерь - 'modified_huber'."
   ]
  },
  {
   "cell_type": "markdown",
   "metadata": {},
   "source": [
    "**(0.5 балл) Задание 3.** Теперь подберём число деревьев (*n_estimators*) в алгоритме RandomForest. Как известно, в общем случае Random Forest не переобучается с увеличением количества деревьев. Подберите количество деревьев, начиная с которого качество на кросс-валидации стабилизируется. Обратите внимание, что для проведения этого эксперимента не нужно с нуля обучать много случайных лесов с различными количествами деревьев: обучите один случайный лес с максимальным интересным количеством деревьев, а затем рассмотрите подмножества деревьев разных размеров, состоящие из деревьев построенного леса (поле [*estimators_*](http://scikit-learn.org/stable/modules/generated/sklearn.ensemble.RandomForestClassifier.html)). В дальнейших экспериментах используйте найденное количество деревьев.\n",
    "\n",
    "Применить класс *GridSearchCV* в данном задании затруднительно, поэтому предлагается самостоятельно написать цикл по числу деревьев."
   ]
  },
  {
   "cell_type": "code",
   "execution_count": 56,
   "metadata": {},
   "outputs": [],
   "source": [
    "from sklearn.ensemble import RandomForestClassifier\n",
    "from sklearn.model_selection import cross_val_predict\n",
    "from sklearn.metrics import roc_auc_score"
   ]
  },
  {
   "cell_type": "code",
   "execution_count": 57,
   "metadata": {
    "scrolled": true
   },
   "outputs": [
    {
     "data": {
      "text/plain": [
       "RandomForestClassifier(bootstrap=True, ccp_alpha=0.0, class_weight=None,\n",
       "                       criterion='gini', max_depth=None, max_features='auto',\n",
       "                       max_leaf_nodes=None, max_samples=None,\n",
       "                       min_impurity_decrease=0.0, min_impurity_split=None,\n",
       "                       min_samples_leaf=1, min_samples_split=2,\n",
       "                       min_weight_fraction_leaf=0.0, n_estimators=2000,\n",
       "                       n_jobs=None, oob_score=False, random_state=None,\n",
       "                       verbose=0, warm_start=False)"
      ]
     },
     "execution_count": 57,
     "metadata": {},
     "output_type": "execute_result"
    }
   ],
   "source": [
    "rand_clf = RandomForestClassifier(n_estimators=2000)\n",
    "rand_clf.fit(X, y)"
   ]
  },
  {
   "cell_type": "code",
   "execution_count": 134,
   "metadata": {},
   "outputs": [],
   "source": [
    "def RandomForestCV(X, y, n_folds=5, n_est_max=1000, param_range=None):\n",
    "    kf = KFold(n_splits=5, shuffle=True, random_state=42)\n",
    "    if param_range is None:\n",
    "        param_range = range(20, n_est_max, 10)\n",
    "\n",
    "    results = list()\n",
    "    for train_index, test_index in kf.split(X):\n",
    "        X_train, X_test = X.iloc[train_index], X.iloc[test_index]\n",
    "        y_train, y_test = y.iloc[train_index], y.iloc[test_index]\n",
    "\n",
    "        rand_clf = RandomForestClassifier(n_estimators=n_est_max, random_state=42)\n",
    "        rand_clf.fit(X_train, y_train)\n",
    "\n",
    "        estimators = rand_clf.estimators_\n",
    "        results_step = list()\n",
    "        for n_est in param_range:\n",
    "            rand_clf.n_estimators = n_est\n",
    "            rand_clf.estimators_ = estimators[:n_est]\n",
    "\n",
    "            y_prob = rand_clf.predict_proba(X_test)\n",
    "            metric = roc_auc_score(y_test, y_prob[:, 1])\n",
    "\n",
    "            results_step.append(metric)\n",
    "\n",
    "        results.append(results_step)\n",
    "        \n",
    "    results = np.array(results)\n",
    "    return results.mean(axis=0), results.std(axis=0)"
   ]
  },
  {
   "cell_type": "code",
   "execution_count": 106,
   "metadata": {},
   "outputs": [],
   "source": [
    "n_est_max=1500\n",
    "n_estimators = list(range(20, 200, 20)) + list(range(200, n_est_max + 1, 100))\n",
    "rf_means, rf_stds = RandomForestCV(X, y, n_est_max, param_range=n_estimators)"
   ]
  },
  {
   "cell_type": "code",
   "execution_count": 116,
   "metadata": {},
   "outputs": [
    {
     "data": {
      "image/png": "[encoded data removed]",
      "text/plain": [
       "<Figure size 864x576 with 1 Axes>"
      ]
     },
     "metadata": {
      "needs_background": "light"
     },
     "output_type": "display_data"
    }
   ],
   "source": [
    "plot_cv_results(rf_means, rf_stds, param_range=n_estimators, algo_name='RandomForest')\n",
    "plt.xticks(range(0, 1501, 100))\n",
    "plt.grid()"
   ]
  },
  {
   "cell_type": "code",
   "execution_count": 120,
   "metadata": {
    "scrolled": true
   },
   "outputs": [
    {
     "name": "stdout",
     "output_type": "stream",
     "text": [
      "Best result: 0.7540591595407389, with 1500 amount of trees.\n"
     ]
    }
   ],
   "source": [
    "best_rf_score = np.max(rf_means)\n",
    "best_n_est = n_estimators[np.argmax(rf_means)]\n",
    "print(f'Best result: {best_rf_score}, with {best_n_est} amount of trees.')"
   ]
  },
  {
   "cell_type": "markdown",
   "metadata": {},
   "source": [
    "По графику видно, что качество классификатора начинает стабилизироваться начиная примерно с 300 деревьев. Для выбора наилучшего параметра воспользумеся \"one std error rule\" и возьмем количество эстиматоров, которое дает значение > max_score - ste."
   ]
  },
  {
   "cell_type": "code",
   "execution_count": 130,
   "metadata": {},
   "outputs": [
    {
     "data": {
      "text/plain": [
       "80"
      ]
     },
     "execution_count": 130,
     "metadata": {},
     "output_type": "execute_result"
    }
   ],
   "source": [
    "ind = np.argmax(rf_means)\n",
    "ind = (rf_means > (rf_means - rf_stds)[ind]).argmax()\n",
    "n_estimators[ind]"
   ]
  },
  {
   "cell_type": "markdown",
   "metadata": {},
   "source": [
    "**(1 балл) Задание 4.** Посмотрите на значения признаков по gold и lh. В чем заключается особенность данных? На какие из рассматриваемых алгоритмов это может повлиять? Может ли масштабирование повлиять на работу этих алгоритмов?"
   ]
  },
  {
   "cell_type": "markdown",
   "metadata": {},
   "source": [
    "Масштабирование признаков можно выполнить, например, одним из следующих способов:\n",
    " - $x_{new} = \\dfrac{x - \\mu}{\\sigma}$, где $\\mu, \\sigma$ — среднее и стандартное отклонение значения признака по всей выборке (см. функцию [scale](http://scikit-learn.org/stable/modules/generated/sklearn.preprocessing.scale.html))\n",
    " - $x_{new} = \\dfrac{x - x_{min}}{x_{max} - x_{min}}$, где $[x_{min}, x_{max}]$ — минимальный интервал значений признака\n",
    "\n",
    "Похожие схемы масштабирования приведены в классах [StandardScaler](http://scikit-learn.org/stable/modules/generated/sklearn.preprocessing.StandardScaler.html#sklearn.preprocessing.StandardScaler) и [MinMaxScaler](http://scikit-learn.org/stable/modules/generated/sklearn.preprocessing.MinMaxScaler.html#sklearn.preprocessing.MinMaxScaler).\n",
    " "
   ]
  },
  {
   "cell_type": "code",
   "execution_count": 67,
   "metadata": {},
   "outputs": [],
   "source": [
    "from sklearn.preprocessing import StandardScaler, MinMaxScaler"
   ]
  },
  {
   "cell_type": "code",
   "execution_count": 71,
   "metadata": {
    "scrolled": true
   },
   "outputs": [
    {
     "data": {
      "text/html": [
       "<div>\n",
       "<style scoped>\n",
       "    .dataframe tbody tr th:only-of-type {\n",
       "        vertical-align: middle;\n",
       "    }\n",
       "\n",
       "    .dataframe tbody tr th {\n",
       "        vertical-align: top;\n",
       "    }\n",
       "\n",
       "    .dataframe thead th {\n",
       "        text-align: right;\n",
       "    }\n",
       "</style>\n",
       "<table border=\"1\" class=\"dataframe\">\n",
       "  <thead>\n",
       "    <tr style=\"text-align: right;\">\n",
       "      <th></th>\n",
       "      <th>mid</th>\n",
       "      <th>patch</th>\n",
       "      <th>player_0</th>\n",
       "      <th>player_1</th>\n",
       "      <th>player_2</th>\n",
       "      <th>player_3</th>\n",
       "      <th>player_4</th>\n",
       "      <th>player_5</th>\n",
       "      <th>player_6</th>\n",
       "      <th>player_7</th>\n",
       "      <th>...</th>\n",
       "      <th>radiant_gold_max</th>\n",
       "      <th>dire_gold_sum</th>\n",
       "      <th>dire_gold_min</th>\n",
       "      <th>dire_gold_max</th>\n",
       "      <th>radiant_lh_sum</th>\n",
       "      <th>radiant_lh_min</th>\n",
       "      <th>radiant_lh_max</th>\n",
       "      <th>dire_lh_sum</th>\n",
       "      <th>dire_lh_min</th>\n",
       "      <th>dire_lh_max</th>\n",
       "    </tr>\n",
       "  </thead>\n",
       "  <tbody>\n",
       "    <tr>\n",
       "      <th>count</th>\n",
       "      <td>26252.000000</td>\n",
       "      <td>26252.000000</td>\n",
       "      <td>26252.000000</td>\n",
       "      <td>26252.000000</td>\n",
       "      <td>26252.000000</td>\n",
       "      <td>26252.000000</td>\n",
       "      <td>26252.000000</td>\n",
       "      <td>26252.000000</td>\n",
       "      <td>26252.000000</td>\n",
       "      <td>26252.000000</td>\n",
       "      <td>...</td>\n",
       "      <td>26252.000000</td>\n",
       "      <td>26252.000000</td>\n",
       "      <td>26252.000000</td>\n",
       "      <td>26252.000000</td>\n",
       "      <td>26252.000000</td>\n",
       "      <td>26252.000000</td>\n",
       "      <td>26252.000000</td>\n",
       "      <td>26252.000000</td>\n",
       "      <td>26252.000000</td>\n",
       "      <td>26252.000000</td>\n",
       "    </tr>\n",
       "    <tr>\n",
       "      <th>mean</th>\n",
       "      <td>54079.604906</td>\n",
       "      <td>29.846526</td>\n",
       "      <td>2615.777655</td>\n",
       "      <td>2942.171301</td>\n",
       "      <td>2892.888199</td>\n",
       "      <td>2763.698842</td>\n",
       "      <td>2799.328851</td>\n",
       "      <td>2610.791711</td>\n",
       "      <td>2891.073061</td>\n",
       "      <td>2852.613668</td>\n",
       "      <td>...</td>\n",
       "      <td>4061.862677</td>\n",
       "      <td>11075.257161</td>\n",
       "      <td>1690.176215</td>\n",
       "      <td>3896.706232</td>\n",
       "      <td>161.451508</td>\n",
       "      <td>4.194957</td>\n",
       "      <td>62.366258</td>\n",
       "      <td>127.609934</td>\n",
       "      <td>5.556339</td>\n",
       "      <td>59.262380</td>\n",
       "    </tr>\n",
       "    <tr>\n",
       "      <th>std</th>\n",
       "      <td>15542.968821</td>\n",
       "      <td>10.442477</td>\n",
       "      <td>1035.084334</td>\n",
       "      <td>1030.973364</td>\n",
       "      <td>1012.027322</td>\n",
       "      <td>1034.972070</td>\n",
       "      <td>1014.066687</td>\n",
       "      <td>1012.896698</td>\n",
       "      <td>1012.806038</td>\n",
       "      <td>991.044535</td>\n",
       "      <td>...</td>\n",
       "      <td>626.196281</td>\n",
       "      <td>1708.875799</td>\n",
       "      <td>376.384803</td>\n",
       "      <td>639.242476</td>\n",
       "      <td>30.684980</td>\n",
       "      <td>3.390815</td>\n",
       "      <td>13.336966</td>\n",
       "      <td>33.449874</td>\n",
       "      <td>4.917915</td>\n",
       "      <td>14.088829</td>\n",
       "    </tr>\n",
       "    <tr>\n",
       "      <th>min</th>\n",
       "      <td>12048.000000</td>\n",
       "      <td>11.000000</td>\n",
       "      <td>0.000000</td>\n",
       "      <td>0.000000</td>\n",
       "      <td>0.000000</td>\n",
       "      <td>0.000000</td>\n",
       "      <td>0.000000</td>\n",
       "      <td>0.000000</td>\n",
       "      <td>0.000000</td>\n",
       "      <td>0.000000</td>\n",
       "      <td>...</td>\n",
       "      <td>0.000000</td>\n",
       "      <td>0.000000</td>\n",
       "      <td>0.000000</td>\n",
       "      <td>0.000000</td>\n",
       "      <td>0.000000</td>\n",
       "      <td>0.000000</td>\n",
       "      <td>0.000000</td>\n",
       "      <td>0.000000</td>\n",
       "      <td>0.000000</td>\n",
       "      <td>0.000000</td>\n",
       "    </tr>\n",
       "    <tr>\n",
       "      <th>25%</th>\n",
       "      <td>40674.000000</td>\n",
       "      <td>18.000000</td>\n",
       "      <td>1722.000000</td>\n",
       "      <td>2012.750000</td>\n",
       "      <td>1992.750000</td>\n",
       "      <td>1842.000000</td>\n",
       "      <td>1897.000000</td>\n",
       "      <td>1737.750000</td>\n",
       "      <td>1974.000000</td>\n",
       "      <td>1979.000000</td>\n",
       "      <td>...</td>\n",
       "      <td>3665.000000</td>\n",
       "      <td>9941.000000</td>\n",
       "      <td>1422.000000</td>\n",
       "      <td>3495.000000</td>\n",
       "      <td>142.000000</td>\n",
       "      <td>2.000000</td>\n",
       "      <td>54.000000</td>\n",
       "      <td>104.000000</td>\n",
       "      <td>2.000000</td>\n",
       "      <td>50.000000</td>\n",
       "    </tr>\n",
       "    <tr>\n",
       "      <th>50%</th>\n",
       "      <td>54023.000000</td>\n",
       "      <td>28.000000</td>\n",
       "      <td>2382.000000</td>\n",
       "      <td>3032.000000</td>\n",
       "      <td>2946.000000</td>\n",
       "      <td>2703.000000</td>\n",
       "      <td>2798.000000</td>\n",
       "      <td>2397.500000</td>\n",
       "      <td>2957.500000</td>\n",
       "      <td>2887.000000</td>\n",
       "      <td>...</td>\n",
       "      <td>4018.000000</td>\n",
       "      <td>11011.000000</td>\n",
       "      <td>1638.000000</td>\n",
       "      <td>3875.000000</td>\n",
       "      <td>162.000000</td>\n",
       "      <td>3.000000</td>\n",
       "      <td>61.000000</td>\n",
       "      <td>126.000000</td>\n",
       "      <td>4.000000</td>\n",
       "      <td>59.000000</td>\n",
       "    </tr>\n",
       "    <tr>\n",
       "      <th>75%</th>\n",
       "      <td>67501.500000</td>\n",
       "      <td>40.000000</td>\n",
       "      <td>3457.000000</td>\n",
       "      <td>3724.000000</td>\n",
       "      <td>3659.000000</td>\n",
       "      <td>3575.250000</td>\n",
       "      <td>3578.000000</td>\n",
       "      <td>3409.000000</td>\n",
       "      <td>3666.000000</td>\n",
       "      <td>3610.000000</td>\n",
       "      <td>...</td>\n",
       "      <td>4413.000000</td>\n",
       "      <td>12159.000000</td>\n",
       "      <td>1901.000000</td>\n",
       "      <td>4274.000000</td>\n",
       "      <td>181.000000</td>\n",
       "      <td>6.000000</td>\n",
       "      <td>70.000000</td>\n",
       "      <td>150.000000</td>\n",
       "      <td>8.000000</td>\n",
       "      <td>67.000000</td>\n",
       "    </tr>\n",
       "    <tr>\n",
       "      <th>max</th>\n",
       "      <td>81466.000000</td>\n",
       "      <td>43.000000</td>\n",
       "      <td>8188.000000</td>\n",
       "      <td>7442.000000</td>\n",
       "      <td>8294.000000</td>\n",
       "      <td>11868.000000</td>\n",
       "      <td>7083.000000</td>\n",
       "      <td>8160.000000</td>\n",
       "      <td>7761.000000</td>\n",
       "      <td>7941.000000</td>\n",
       "      <td>...</td>\n",
       "      <td>11868.000000</td>\n",
       "      <td>19991.000000</td>\n",
       "      <td>4094.000000</td>\n",
       "      <td>8160.000000</td>\n",
       "      <td>298.000000</td>\n",
       "      <td>34.000000</td>\n",
       "      <td>173.000000</td>\n",
       "      <td>266.000000</td>\n",
       "      <td>52.000000</td>\n",
       "      <td>166.000000</td>\n",
       "    </tr>\n",
       "  </tbody>\n",
       "</table>\n",
       "<p>8 rows × 34 columns</p>\n",
       "</div>"
      ],
      "text/plain": [
       "                mid         patch      player_0      player_1      player_2  \\\n",
       "count  26252.000000  26252.000000  26252.000000  26252.000000  26252.000000   \n",
       "mean   54079.604906     29.846526   2615.777655   2942.171301   2892.888199   \n",
       "std    15542.968821     10.442477   1035.084334   1030.973364   1012.027322   \n",
       "min    12048.000000     11.000000      0.000000      0.000000      0.000000   \n",
       "25%    40674.000000     18.000000   1722.000000   2012.750000   1992.750000   \n",
       "50%    54023.000000     28.000000   2382.000000   3032.000000   2946.000000   \n",
       "75%    67501.500000     40.000000   3457.000000   3724.000000   3659.000000   \n",
       "max    81466.000000     43.000000   8188.000000   7442.000000   8294.000000   \n",
       "\n",
       "           player_3      player_4      player_5      player_6      player_7  \\\n",
       "count  26252.000000  26252.000000  26252.000000  26252.000000  26252.000000   \n",
       "mean    2763.698842   2799.328851   2610.791711   2891.073061   2852.613668   \n",
       "std     1034.972070   1014.066687   1012.896698   1012.806038    991.044535   \n",
       "min        0.000000      0.000000      0.000000      0.000000      0.000000   \n",
       "25%     1842.000000   1897.000000   1737.750000   1974.000000   1979.000000   \n",
       "50%     2703.000000   2798.000000   2397.500000   2957.500000   2887.000000   \n",
       "75%     3575.250000   3578.000000   3409.000000   3666.000000   3610.000000   \n",
       "max    11868.000000   7083.000000   8160.000000   7761.000000   7941.000000   \n",
       "\n",
       "       ...  radiant_gold_max  dire_gold_sum  dire_gold_min  dire_gold_max  \\\n",
       "count  ...      26252.000000   26252.000000   26252.000000   26252.000000   \n",
       "mean   ...       4061.862677   11075.257161    1690.176215    3896.706232   \n",
       "std    ...        626.196281    1708.875799     376.384803     639.242476   \n",
       "min    ...          0.000000       0.000000       0.000000       0.000000   \n",
       "25%    ...       3665.000000    9941.000000    1422.000000    3495.000000   \n",
       "50%    ...       4018.000000   11011.000000    1638.000000    3875.000000   \n",
       "75%    ...       4413.000000   12159.000000    1901.000000    4274.000000   \n",
       "max    ...      11868.000000   19991.000000    4094.000000    8160.000000   \n",
       "\n",
       "       radiant_lh_sum  radiant_lh_min  radiant_lh_max   dire_lh_sum  \\\n",
       "count    26252.000000    26252.000000    26252.000000  26252.000000   \n",
       "mean       161.451508        4.194957       62.366258    127.609934   \n",
       "std         30.684980        3.390815       13.336966     33.449874   \n",
       "min          0.000000        0.000000        0.000000      0.000000   \n",
       "25%        142.000000        2.000000       54.000000    104.000000   \n",
       "50%        162.000000        3.000000       61.000000    126.000000   \n",
       "75%        181.000000        6.000000       70.000000    150.000000   \n",
       "max        298.000000       34.000000      173.000000    266.000000   \n",
       "\n",
       "        dire_lh_min   dire_lh_max  \n",
       "count  26252.000000  26252.000000  \n",
       "mean       5.556339     59.262380  \n",
       "std        4.917915     14.088829  \n",
       "min        0.000000      0.000000  \n",
       "25%        2.000000     50.000000  \n",
       "50%        4.000000     59.000000  \n",
       "75%        8.000000     67.000000  \n",
       "max       52.000000    166.000000  \n",
       "\n",
       "[8 rows x 34 columns]"
      ]
     },
     "execution_count": 71,
     "metadata": {},
     "output_type": "execute_result"
    }
   ],
   "source": [
    "train_proceeded.describe()"
   ]
  },
  {
   "cell_type": "markdown",
   "metadata": {},
   "source": [
    "Видно, что значения для параметров 'gold' и 'lh' различаются на порядок. По итогу, при аггрегировании мы получаем данные с сильным разбросом значений и которые различаются друг от друга на несколько порядков.\n",
    "\n",
    "KNN чувствительн к размеру признаков, так он оперирует расстояниями(похожестью) между объектами. Также масштаб признаков влияет на SGDClassifier, так как в нем используется регуляризованная линейная модель. А мы знаем, что в таких моделях признаки, которые больше по значению, сильнее влияют на целевую переменную.\n",
    "\n",
    "Приведение данных к одной шкале поможет тем, что все признаки будут иметь одинаковый вклад в алгоритм."
   ]
  },
  {
   "cell_type": "markdown",
   "metadata": {},
   "source": [
    "**(1 балл) Задание 5.** Отмасштабируйте все вещественные признаки одним из указанных выше способов и подберите оптимальные значения гиперпараметров аналогично пункту выше.\n",
    "\n",
    "Изменилось ли качество некоторых алгоритмов и почему?"
   ]
  },
  {
   "cell_type": "code",
   "execution_count": 75,
   "metadata": {},
   "outputs": [
    {
     "data": {
      "text/html": [
       "<div>\n",
       "<style scoped>\n",
       "    .dataframe tbody tr th:only-of-type {\n",
       "        vertical-align: middle;\n",
       "    }\n",
       "\n",
       "    .dataframe tbody tr th {\n",
       "        vertical-align: top;\n",
       "    }\n",
       "\n",
       "    .dataframe thead th {\n",
       "        text-align: right;\n",
       "    }\n",
       "</style>\n",
       "<table border=\"1\" class=\"dataframe\">\n",
       "  <thead>\n",
       "    <tr style=\"text-align: right;\">\n",
       "      <th></th>\n",
       "      <th>radiant_gold_sum</th>\n",
       "      <th>radiant_gold_min</th>\n",
       "      <th>radiant_gold_max</th>\n",
       "      <th>dire_gold_sum</th>\n",
       "      <th>dire_gold_min</th>\n",
       "      <th>dire_gold_max</th>\n",
       "      <th>radiant_lh_sum</th>\n",
       "      <th>radiant_lh_min</th>\n",
       "      <th>radiant_lh_max</th>\n",
       "      <th>dire_lh_sum</th>\n",
       "      <th>dire_lh_min</th>\n",
       "      <th>dire_lh_max</th>\n",
       "    </tr>\n",
       "  </thead>\n",
       "  <tbody>\n",
       "    <tr>\n",
       "      <th>count</th>\n",
       "      <td>2.625200e+04</td>\n",
       "      <td>2.625200e+04</td>\n",
       "      <td>2.625200e+04</td>\n",
       "      <td>2.625200e+04</td>\n",
       "      <td>2.625200e+04</td>\n",
       "      <td>2.625200e+04</td>\n",
       "      <td>2.625200e+04</td>\n",
       "      <td>2.625200e+04</td>\n",
       "      <td>2.625200e+04</td>\n",
       "      <td>2.625200e+04</td>\n",
       "      <td>2.625200e+04</td>\n",
       "      <td>2.625200e+04</td>\n",
       "    </tr>\n",
       "    <tr>\n",
       "      <th>mean</th>\n",
       "      <td>4.428036e-16</td>\n",
       "      <td>3.762206e-17</td>\n",
       "      <td>-4.601260e-17</td>\n",
       "      <td>-4.729824e-16</td>\n",
       "      <td>-5.359114e-17</td>\n",
       "      <td>-1.816144e-16</td>\n",
       "      <td>2.687677e-16</td>\n",
       "      <td>-6.116969e-17</td>\n",
       "      <td>3.396812e-17</td>\n",
       "      <td>-1.908169e-16</td>\n",
       "      <td>6.441763e-17</td>\n",
       "      <td>-1.607734e-16</td>\n",
       "    </tr>\n",
       "    <tr>\n",
       "      <th>std</th>\n",
       "      <td>1.000019e+00</td>\n",
       "      <td>1.000019e+00</td>\n",
       "      <td>1.000019e+00</td>\n",
       "      <td>1.000019e+00</td>\n",
       "      <td>1.000019e+00</td>\n",
       "      <td>1.000019e+00</td>\n",
       "      <td>1.000019e+00</td>\n",
       "      <td>1.000019e+00</td>\n",
       "      <td>1.000019e+00</td>\n",
       "      <td>1.000019e+00</td>\n",
       "      <td>1.000019e+00</td>\n",
       "      <td>1.000019e+00</td>\n",
       "    </tr>\n",
       "    <tr>\n",
       "      <th>min</th>\n",
       "      <td>-7.592249e+00</td>\n",
       "      <td>-4.844060e+00</td>\n",
       "      <td>-6.486688e+00</td>\n",
       "      <td>-6.481143e+00</td>\n",
       "      <td>-4.490639e+00</td>\n",
       "      <td>-6.095935e+00</td>\n",
       "      <td>-5.261681e+00</td>\n",
       "      <td>-1.237176e+00</td>\n",
       "      <td>-4.676285e+00</td>\n",
       "      <td>-3.815033e+00</td>\n",
       "      <td>-1.129837e+00</td>\n",
       "      <td>-4.206418e+00</td>\n",
       "    </tr>\n",
       "    <tr>\n",
       "      <th>25%</th>\n",
       "      <td>-6.159158e-01</td>\n",
       "      <td>-7.042632e-01</td>\n",
       "      <td>-6.337793e-01</td>\n",
       "      <td>-6.637573e-01</td>\n",
       "      <td>-7.125190e-01</td>\n",
       "      <td>-6.284218e-01</td>\n",
       "      <td>-6.339218e-01</td>\n",
       "      <td>-6.473365e-01</td>\n",
       "      <td>-6.273104e-01</td>\n",
       "      <td>-7.058437e-01</td>\n",
       "      <td>-7.231533e-01</td>\n",
       "      <td>-6.574398e-01</td>\n",
       "    </tr>\n",
       "    <tr>\n",
       "      <th>50%</th>\n",
       "      <td>-3.866312e-02</td>\n",
       "      <td>-1.120089e-01</td>\n",
       "      <td>-7.004755e-02</td>\n",
       "      <td>-3.760272e-02</td>\n",
       "      <td>-1.386273e-01</td>\n",
       "      <td>-3.395683e-02</td>\n",
       "      <td>1.787526e-02</td>\n",
       "      <td>-3.524165e-01</td>\n",
       "      <td>-1.024434e-01</td>\n",
       "      <td>-4.813068e-02</td>\n",
       "      <td>-3.164691e-01</td>\n",
       "      <td>-1.862362e-02</td>\n",
       "    </tr>\n",
       "    <tr>\n",
       "      <th>75%</th>\n",
       "      <td>5.750234e-01</td>\n",
       "      <td>5.699808e-01</td>\n",
       "      <td>5.607571e-01</td>\n",
       "      <td>6.341968e-01</td>\n",
       "      <td>5.601390e-01</td>\n",
       "      <td>5.902314e-01</td>\n",
       "      <td>6.370825e-01</td>\n",
       "      <td>5.323433e-01</td>\n",
       "      <td>5.723856e-01</td>\n",
       "      <td>6.693745e-01</td>\n",
       "      <td>4.968992e-01</td>\n",
       "      <td>5.492130e-01</td>\n",
       "    </tr>\n",
       "    <tr>\n",
       "      <th>max</th>\n",
       "      <td>8.280440e+00</td>\n",
       "      <td>8.667113e+00</td>\n",
       "      <td>1.246620e+01</td>\n",
       "      <td>5.217414e+00</td>\n",
       "      <td>6.386734e+00</td>\n",
       "      <td>6.669418e+00</td>\n",
       "      <td>4.450096e+00</td>\n",
       "      <td>8.790102e+00</td>\n",
       "      <td>8.295429e+00</td>\n",
       "      <td>4.137316e+00</td>\n",
       "      <td>9.443951e+00</td>\n",
       "      <td>7.576191e+00</td>\n",
       "    </tr>\n",
       "  </tbody>\n",
       "</table>\n",
       "</div>"
      ],
      "text/plain": [
       "       radiant_gold_sum  radiant_gold_min  radiant_gold_max  dire_gold_sum  \\\n",
       "count      2.625200e+04      2.625200e+04      2.625200e+04   2.625200e+04   \n",
       "mean       4.428036e-16      3.762206e-17     -4.601260e-17  -4.729824e-16   \n",
       "std        1.000019e+00      1.000019e+00      1.000019e+00   1.000019e+00   \n",
       "min       -7.592249e+00     -4.844060e+00     -6.486688e+00  -6.481143e+00   \n",
       "25%       -6.159158e-01     -7.042632e-01     -6.337793e-01  -6.637573e-01   \n",
       "50%       -3.866312e-02     -1.120089e-01     -7.004755e-02  -3.760272e-02   \n",
       "75%        5.750234e-01      5.699808e-01      5.607571e-01   6.341968e-01   \n",
       "max        8.280440e+00      8.667113e+00      1.246620e+01   5.217414e+00   \n",
       "\n",
       "       dire_gold_min  dire_gold_max  radiant_lh_sum  radiant_lh_min  \\\n",
       "count   2.625200e+04   2.625200e+04    2.625200e+04    2.625200e+04   \n",
       "mean   -5.359114e-17  -1.816144e-16    2.687677e-16   -6.116969e-17   \n",
       "std     1.000019e+00   1.000019e+00    1.000019e+00    1.000019e+00   \n",
       "min    -4.490639e+00  -6.095935e+00   -5.261681e+00   -1.237176e+00   \n",
       "25%    -7.125190e-01  -6.284218e-01   -6.339218e-01   -6.473365e-01   \n",
       "50%    -1.386273e-01  -3.395683e-02    1.787526e-02   -3.524165e-01   \n",
       "75%     5.601390e-01   5.902314e-01    6.370825e-01    5.323433e-01   \n",
       "max     6.386734e+00   6.669418e+00    4.450096e+00    8.790102e+00   \n",
       "\n",
       "       radiant_lh_max   dire_lh_sum   dire_lh_min   dire_lh_max  \n",
       "count    2.625200e+04  2.625200e+04  2.625200e+04  2.625200e+04  \n",
       "mean     3.396812e-17 -1.908169e-16  6.441763e-17 -1.607734e-16  \n",
       "std      1.000019e+00  1.000019e+00  1.000019e+00  1.000019e+00  \n",
       "min     -4.676285e+00 -3.815033e+00 -1.129837e+00 -4.206418e+00  \n",
       "25%     -6.273104e-01 -7.058437e-01 -7.231533e-01 -6.574398e-01  \n",
       "50%     -1.024434e-01 -4.813068e-02 -3.164691e-01 -1.862362e-02  \n",
       "75%      5.723856e-01  6.693745e-01  4.968992e-01  5.492130e-01  \n",
       "max      8.295429e+00  4.137316e+00  9.443951e+00  7.576191e+00  "
      ]
     },
     "execution_count": 75,
     "metadata": {},
     "output_type": "execute_result"
    }
   ],
   "source": [
    "stand_scaler = StandardScaler()\n",
    "stand_scaler.fit(X)\n",
    "X_scaled = pd.DataFrame(stand_scaler.transform(X))\n",
    "X_scaled.columns = X.columns\n",
    "X_scaled.describe()"
   ]
  },
  {
   "cell_type": "code",
   "execution_count": 170,
   "metadata": {},
   "outputs": [
    {
     "name": "stdout",
     "output_type": "stream",
     "text": [
      "Fitting 5 folds for each of 30 candidates, totalling 150 fits\n"
     ]
    },
    {
     "name": "stderr",
     "output_type": "stream",
     "text": [
      "[Parallel(n_jobs=1)]: Using backend SequentialBackend with 1 concurrent workers.\n",
      "[Parallel(n_jobs=1)]: Done 150 out of 150 | elapsed:  4.9min finished\n"
     ]
    }
   ],
   "source": [
    "knn = KNN()\n",
    "best_k, best_knn_score, knn_means, knn_stds = cross_validation(knn, X_scaled, y, param_grid={'n_neighbors': range(5, 151, 5)})"
   ]
  },
  {
   "cell_type": "code",
   "execution_count": 80,
   "metadata": {},
   "outputs": [
    {
     "data": {
      "image/png": "[encoded data removed]",
      "text/plain": [
       "<Figure size 864x576 with 1 Axes>"
      ]
     },
     "metadata": {
      "needs_background": "light"
     },
     "output_type": "display_data"
    }
   ],
   "source": [
    "plot_cv_results(knn_means, knn_stds, 'n_neighbors', range(5, 151, 5), 'KNN')"
   ]
  },
  {
   "cell_type": "code",
   "execution_count": 81,
   "metadata": {},
   "outputs": [
    {
     "name": "stdout",
     "output_type": "stream",
     "text": [
      "150\n"
     ]
    }
   ],
   "source": [
    "print(best_k['n_neighbors'])"
   ]
  },
  {
   "cell_type": "code",
   "execution_count": 142,
   "metadata": {},
   "outputs": [
    {
     "data": {
      "text/plain": [
       "45"
      ]
     },
     "execution_count": 142,
     "metadata": {},
     "output_type": "execute_result"
    }
   ],
   "source": [
    "ind = np.argmax(knn_means)\n",
    "ind = (knn_means > (knn_means - knn_stds)[ind]).argmax()\n",
    "range(5, 151, 5)[ind]"
   ]
  },
  {
   "cell_type": "code",
   "execution_count": 84,
   "metadata": {},
   "outputs": [
    {
     "name": "stdout",
     "output_type": "stream",
     "text": [
      "Fitting 5 folds for each of 14 candidates, totalling 70 fits\n"
     ]
    },
    {
     "name": "stderr",
     "output_type": "stream",
     "text": [
      "[Parallel(n_jobs=1)]: Using backend SequentialBackend with 1 concurrent workers.\n",
      "[Parallel(n_jobs=1)]: Done  70 out of  70 | elapsed:    7.2s finished\n"
     ]
    }
   ],
   "source": [
    "dt = DecisionTreeClassifier()\n",
    "best_depth, best_dt_score, dt_means, dt_stds = cross_validation(dt, X_scaled, y, param_grid={'max_depth': range(1, 15)})"
   ]
  },
  {
   "cell_type": "code",
   "execution_count": 85,
   "metadata": {},
   "outputs": [
    {
     "data": {
      "image/png": "[encoded data removed]",
      "text/plain": [
       "<Figure size 864x576 with 1 Axes>"
      ]
     },
     "metadata": {
      "needs_background": "light"
     },
     "output_type": "display_data"
    }
   ],
   "source": [
    "plot_cv_results(dt_means, dt_stds, 'max_depth', range(1, 15))"
   ]
  },
  {
   "cell_type": "code",
   "execution_count": 86,
   "metadata": {},
   "outputs": [
    {
     "name": "stdout",
     "output_type": "stream",
     "text": [
      "5\n"
     ]
    }
   ],
   "source": [
    "print(best_depth['max_depth'])"
   ]
  },
  {
   "cell_type": "code",
   "execution_count": 166,
   "metadata": {},
   "outputs": [
    {
     "name": "stdout",
     "output_type": "stream",
     "text": [
      "Fitting 5 folds for each of 5 candidates, totalling 25 fits\n"
     ]
    },
    {
     "name": "stderr",
     "output_type": "stream",
     "text": [
      "[Parallel(n_jobs=1)]: Using backend SequentialBackend with 1 concurrent workers.\n",
      "[Parallel(n_jobs=1)]: Done  25 out of  25 | elapsed:    2.9s finished\n"
     ]
    }
   ],
   "source": [
    "sgd = SGDClassifier()\n",
    "best_loss, best_sgd_score, sgd_means, sgd_stds = cross_validation(sgd, X_scaled, y, param_grid={'loss': ['hinge', 'log', 'modified_huber', 'squared_hinge', 'perceptron']})"
   ]
  },
  {
   "cell_type": "code",
   "execution_count": 167,
   "metadata": {},
   "outputs": [
    {
     "data": {
      "image/png": "[encoded data removed]",
      "text/plain": [
       "<Figure size 864x576 with 1 Axes>"
      ]
     },
     "metadata": {
      "needs_background": "light"
     },
     "output_type": "display_data"
    }
   ],
   "source": [
    "plot_cv_results(sgd_means, sgd_stds, 'loss', ['hinge', 'log', 'modified_huber', 'squared_hinge', 'perceptron'])"
   ]
  },
  {
   "cell_type": "code",
   "execution_count": 168,
   "metadata": {},
   "outputs": [
    {
     "name": "stdout",
     "output_type": "stream",
     "text": [
      "log\n"
     ]
    }
   ],
   "source": [
    "print(best_loss['loss'])"
   ]
  },
  {
   "cell_type": "code",
   "execution_count": 135,
   "metadata": {},
   "outputs": [],
   "source": [
    "n_est_max=1500\n",
    "n_estimators = list(range(20, 200, 20)) + list(range(200, n_est_max + 1, 100))\n",
    "rf_means, rf_stds = RandomForestCV(X_scaled, y, n_est_max, param_range=n_estimators)"
   ]
  },
  {
   "cell_type": "code",
   "execution_count": 136,
   "metadata": {},
   "outputs": [
    {
     "data": {
      "image/png": "[encoded data removed]",
      "text/plain": [
       "<Figure size 864x576 with 1 Axes>"
      ]
     },
     "metadata": {
      "needs_background": "light"
     },
     "output_type": "display_data"
    }
   ],
   "source": [
    "plot_cv_results(rf_means, rf_stds, param_range=n_estimators)\n",
    "plt.xticks(range(0, 1501, 100))\n",
    "plt.grid()"
   ]
  },
  {
   "cell_type": "code",
   "execution_count": 138,
   "metadata": {},
   "outputs": [
    {
     "name": "stdout",
     "output_type": "stream",
     "text": [
      "Best result: 0.7539902129837868, with 1000 amount of trees.\n"
     ]
    }
   ],
   "source": [
    "best_rf_score = np.max(rf_means)\n",
    "best_n_est = n_estimators[np.argmax(rf_means)]\n",
    "print(f'Best result: {best_rf_score}, with {best_n_est} amount of trees.')"
   ]
  },
  {
   "cell_type": "code",
   "execution_count": 171,
   "metadata": {},
   "outputs": [
    {
     "data": {
      "text/html": [
       "<div>\n",
       "<style scoped>\n",
       "    .dataframe tbody tr th:only-of-type {\n",
       "        vertical-align: middle;\n",
       "    }\n",
       "\n",
       "    .dataframe tbody tr th {\n",
       "        vertical-align: top;\n",
       "    }\n",
       "\n",
       "    .dataframe thead th {\n",
       "        text-align: right;\n",
       "    }\n",
       "</style>\n",
       "<table border=\"1\" class=\"dataframe\">\n",
       "  <thead>\n",
       "    <tr style=\"text-align: right;\">\n",
       "      <th></th>\n",
       "      <th>Algo</th>\n",
       "      <th>Best parameter</th>\n",
       "      <th>Mean ROC_AUC</th>\n",
       "    </tr>\n",
       "  </thead>\n",
       "  <tbody>\n",
       "    <tr>\n",
       "      <th>2</th>\n",
       "      <td>SGD</td>\n",
       "      <td>{'loss': 'log'}</td>\n",
       "      <td>0.757260</td>\n",
       "    </tr>\n",
       "    <tr>\n",
       "      <th>0</th>\n",
       "      <td>KNN</td>\n",
       "      <td>{'n_neighbors': 150}</td>\n",
       "      <td>0.756259</td>\n",
       "    </tr>\n",
       "    <tr>\n",
       "      <th>3</th>\n",
       "      <td>RandomForest</td>\n",
       "      <td>'n_estimators': 1000</td>\n",
       "      <td>0.753990</td>\n",
       "    </tr>\n",
       "    <tr>\n",
       "      <th>1</th>\n",
       "      <td>Decision Tree</td>\n",
       "      <td>{'criterion': 'gini', 'max_depth': 5}</td>\n",
       "      <td>0.744949</td>\n",
       "    </tr>\n",
       "  </tbody>\n",
       "</table>\n",
       "</div>"
      ],
      "text/plain": [
       "            Algo                         Best parameter  Mean ROC_AUC\n",
       "2            SGD                        {'loss': 'log'}      0.757260\n",
       "0            KNN                   {'n_neighbors': 150}      0.756259\n",
       "3   RandomForest                   'n_estimators': 1000      0.753990\n",
       "1  Decision Tree  {'criterion': 'gini', 'max_depth': 5}      0.744949"
      ]
     },
     "execution_count": 171,
     "metadata": {},
     "output_type": "execute_result"
    }
   ],
   "source": [
    "result_second = pd.DataFrame({\n",
    "    'Algo': ['KNN', 'Decision Tree', 'SGD', 'RandomForest'],\n",
    "    'Best parameter': [best_k, best_depth, best_loss, '\\'n_estimators\\': ' + str(best_n_est)],\n",
    "    'Mean ROC_AUC': [best_knn_score, best_dt_score, best_sgd_score, best_rf_score],\n",
    "}).sort_values(by='Mean ROC_AUC', ascending=False)\n",
    "result_second"
   ]
  },
  {
   "cell_type": "markdown",
   "metadata": {},
   "source": [
    "**(1.5 балла) Задание 6.** Теперь сделайте перебор нескольких гиперпараметров по сетке и найдите оптимальные комбинации (лучшее среднее значение качества) для каждого алгоритма в данном случае: \n",
    " - KNN — число соседей (*n_neighbors*) и метрика (*metric*)\n",
    " - DecisonTree — глубина дерева (*max_depth*) и критерий разбиения (*criterion*)\n",
    " - RandomForest — критерий разбиения в деревьях (*criterion*) и максимальное число рассматриваемых признаков (*max_features*); используйте найденное ранее каличество деревьев\n",
    " - SGDClassifier — оптимизируемая функция (*loss*) и *penalty*\n",
    " \n",
    "Обратите внимание, что эта операция может быть ресурсо- и трудоемкой. Как оптимизировать подбор параметров по сетке сказано в разделе \"Подбор гиперпараметров модели\".\n",
    "\n",
    "Какой из алгоритмов имеет наилучшее качество? "
   ]
  },
  {
   "cell_type": "code",
   "execution_count": 175,
   "metadata": {},
   "outputs": [],
   "source": [
    "knn_grid = {\n",
    "    'n_neighbors': range(10, 71, 5),\n",
    "    'metric': ['euclidean', 'manhattan', 'chebyshev', 'minkowski']\n",
    "}\n",
    "\n",
    "dt_grid = {\n",
    "    'max_depth': range(3, 11),\n",
    "    'criterion': ['gini', 'entropy'],\n",
    "}\n",
    "\n",
    "rf_grid = {\n",
    "    'criterion': ['gini', 'entropy'],\n",
    "    'max_features': ['sqrt', 'log2', 0.5, 0.75]\n",
    "}\n",
    "\n",
    "sgd_grid = {\n",
    "    'loss': ['hinge', 'log', 'modified_huber', 'squared_hinge', 'perceptron'],\n",
    "    'penalty': ['l2', 'l1', 'elasticnet']\n",
    "}"
   ]
  },
  {
   "cell_type": "code",
   "execution_count": 180,
   "metadata": {},
   "outputs": [
    {
     "name": "stdout",
     "output_type": "stream",
     "text": [
      "Fitting 5 folds for each of 52 candidates, totalling 260 fits\n"
     ]
    },
    {
     "name": "stderr",
     "output_type": "stream",
     "text": [
      "[Parallel(n_jobs=-1)]: Using backend LokyBackend with 8 concurrent workers.\n",
      "[Parallel(n_jobs=-1)]: Done  34 tasks      | elapsed:   24.2s\n",
      "[Parallel(n_jobs=-1)]: Done 184 tasks      | elapsed:  2.1min\n",
      "[Parallel(n_jobs=-1)]: Done 260 out of 260 | elapsed:  2.9min finished\n"
     ]
    }
   ],
   "source": [
    "knn = KNN()\n",
    "best_k, best_knn_score, knn_means, knn_stds = cross_validation(knn, X_scaled, y, param_grid=knn_grid, n_jobs=-1)"
   ]
  },
  {
   "cell_type": "code",
   "execution_count": 181,
   "metadata": {},
   "outputs": [
    {
     "data": {
      "text/plain": [
       "({'metric': 'manhattan', 'n_neighbors': 70}, 0.7536336920960259)"
      ]
     },
     "execution_count": 181,
     "metadata": {},
     "output_type": "execute_result"
    }
   ],
   "source": [
    "best_k, best_knn_score"
   ]
  },
  {
   "cell_type": "code",
   "execution_count": 163,
   "metadata": {
    "scrolled": false
   },
   "outputs": [
    {
     "name": "stdout",
     "output_type": "stream",
     "text": [
      "Fitting 5 folds for each of 16 candidates, totalling 80 fits\n"
     ]
    },
    {
     "name": "stderr",
     "output_type": "stream",
     "text": [
      "[Parallel(n_jobs=-1)]: Using backend LokyBackend with 8 concurrent workers.\n",
      "[Parallel(n_jobs=-1)]: Done  34 tasks      | elapsed:    2.4s\n",
      "[Parallel(n_jobs=-1)]: Done  80 out of  80 | elapsed:    3.6s finished\n"
     ]
    }
   ],
   "source": [
    "dt = DecisionTreeClassifier()\n",
    "best_depth, best_dt_score, dt_means, dt_stds = cross_validation(dt, X_scaled, y, param_grid=dt_grid, n_jobs=-1)"
   ]
  },
  {
   "cell_type": "code",
   "execution_count": 165,
   "metadata": {},
   "outputs": [
    {
     "data": {
      "text/plain": [
       "({'criterion': 'gini', 'max_depth': 5}, 0.7449489027636667)"
      ]
     },
     "execution_count": 165,
     "metadata": {},
     "output_type": "execute_result"
    }
   ],
   "source": [
    "best_depth, best_dt_score"
   ]
  },
  {
   "cell_type": "code",
   "execution_count": 173,
   "metadata": {},
   "outputs": [
    {
     "name": "stderr",
     "output_type": "stream",
     "text": [
      "[Parallel(n_jobs=-1)]: Using backend LokyBackend with 8 concurrent workers.\n"
     ]
    },
    {
     "name": "stdout",
     "output_type": "stream",
     "text": [
      "Fitting 5 folds for each of 15 candidates, totalling 75 fits\n"
     ]
    },
    {
     "name": "stderr",
     "output_type": "stream",
     "text": [
      "[Parallel(n_jobs=-1)]: Done  34 tasks      | elapsed:    2.7s\n",
      "[Parallel(n_jobs=-1)]: Done  75 out of  75 | elapsed:    4.1s finished\n"
     ]
    }
   ],
   "source": [
    "sgd = SGDClassifier()\n",
    "best_loss, best_sgd_score, sgd_means, sgd_stds = cross_validation(sgd, X_scaled, y, param_grid=sgd_grid, n_jobs=-1)"
   ]
  },
  {
   "cell_type": "code",
   "execution_count": 174,
   "metadata": {},
   "outputs": [
    {
     "data": {
      "text/plain": [
       "({'loss': 'log', 'penalty': 'elasticnet'}, 0.7588619304763548)"
      ]
     },
     "execution_count": 174,
     "metadata": {},
     "output_type": "execute_result"
    }
   ],
   "source": [
    "best_loss, best_sgd_score"
   ]
  },
  {
   "cell_type": "code",
   "execution_count": 176,
   "metadata": {},
   "outputs": [
    {
     "name": "stdout",
     "output_type": "stream",
     "text": [
      "Fitting 5 folds for each of 8 candidates, totalling 40 fits\n"
     ]
    },
    {
     "name": "stderr",
     "output_type": "stream",
     "text": [
      "[Parallel(n_jobs=-1)]: Using backend LokyBackend with 8 concurrent workers.\n",
      "[Parallel(n_jobs=-1)]: Done  40 out of  40 | elapsed: 12.1min finished\n"
     ]
    }
   ],
   "source": [
    "rf = RandomForestClassifier(n_estimators=1000)\n",
    "best_rf, best_rf_score, rf_means, rf_stds = cross_validation(rf, X_scaled, y, param_grid=rf_grid, n_jobs=-1)"
   ]
  },
  {
   "cell_type": "code",
   "execution_count": 177,
   "metadata": {},
   "outputs": [
    {
     "data": {
      "text/plain": [
       "({'criterion': 'entropy', 'max_features': 'sqrt'}, 0.7549612566079839)"
      ]
     },
     "execution_count": 177,
     "metadata": {},
     "output_type": "execute_result"
    }
   ],
   "source": [
    "best_rf, best_rf_score"
   ]
  },
  {
   "cell_type": "code",
   "execution_count": 182,
   "metadata": {},
   "outputs": [
    {
     "data": {
      "text/html": [
       "<div>\n",
       "<style scoped>\n",
       "    .dataframe tbody tr th:only-of-type {\n",
       "        vertical-align: middle;\n",
       "    }\n",
       "\n",
       "    .dataframe tbody tr th {\n",
       "        vertical-align: top;\n",
       "    }\n",
       "\n",
       "    .dataframe thead th {\n",
       "        text-align: right;\n",
       "    }\n",
       "</style>\n",
       "<table border=\"1\" class=\"dataframe\">\n",
       "  <thead>\n",
       "    <tr style=\"text-align: right;\">\n",
       "      <th></th>\n",
       "      <th>Algo</th>\n",
       "      <th>Best parameter</th>\n",
       "      <th>Mean ROC_AUC</th>\n",
       "    </tr>\n",
       "  </thead>\n",
       "  <tbody>\n",
       "    <tr>\n",
       "      <th>2</th>\n",
       "      <td>SGD</td>\n",
       "      <td>{'loss': 'log', 'penalty': 'elasticnet'}</td>\n",
       "      <td>0.758862</td>\n",
       "    </tr>\n",
       "    <tr>\n",
       "      <th>3</th>\n",
       "      <td>RandomForest</td>\n",
       "      <td>{'criterion': 'entropy', 'max_features': 'sqrt'}</td>\n",
       "      <td>0.754961</td>\n",
       "    </tr>\n",
       "    <tr>\n",
       "      <th>0</th>\n",
       "      <td>KNN</td>\n",
       "      <td>{'metric': 'manhattan', 'n_neighbors': 70}</td>\n",
       "      <td>0.753634</td>\n",
       "    </tr>\n",
       "    <tr>\n",
       "      <th>1</th>\n",
       "      <td>Decision Tree</td>\n",
       "      <td>{'criterion': 'gini', 'max_depth': 5}</td>\n",
       "      <td>0.744949</td>\n",
       "    </tr>\n",
       "  </tbody>\n",
       "</table>\n",
       "</div>"
      ],
      "text/plain": [
       "            Algo                                    Best parameter  \\\n",
       "2            SGD          {'loss': 'log', 'penalty': 'elasticnet'}   \n",
       "3   RandomForest  {'criterion': 'entropy', 'max_features': 'sqrt'}   \n",
       "0            KNN        {'metric': 'manhattan', 'n_neighbors': 70}   \n",
       "1  Decision Tree             {'criterion': 'gini', 'max_depth': 5}   \n",
       "\n",
       "   Mean ROC_AUC  \n",
       "2      0.758862  \n",
       "3      0.754961  \n",
       "0      0.753634  \n",
       "1      0.744949  "
      ]
     },
     "execution_count": 182,
     "metadata": {},
     "output_type": "execute_result"
    }
   ],
   "source": [
    "result_third = pd.DataFrame({\n",
    "    'Algo': ['KNN', 'Decision Tree', 'SGD', 'RandomForest'],\n",
    "    'Best parameter': [best_k, best_depth, best_loss, best_rf],\n",
    "    'Mean ROC_AUC': [best_knn_score, best_dt_score, best_sgd_score, best_rf_score],\n",
    "}).sort_values(by='Mean ROC_AUC', ascending=False)\n",
    "result_third"
   ]
  },
  {
   "cell_type": "markdown",
   "metadata": {},
   "source": [
    "**(1.5 балла) Задание 7.** Постройте для разных алгоритмов графики [кривых обучения](http://scikit-learn.org/stable/modules/generated/sklearn.model_selection.learning_curve.html), изображающие зависимость качества на тестовой и обучающей выборках от количества объектов, на которых обучаются модели. Посмотрите на поведение кривых и ответьте на вопросы:\n",
    "* Может ли с ростом числа объектов убывать качество на тестовой выборке? А на обучающей? Почему?\n",
    "* Для каких целей можно использовать знание качества на обучающей части выборки?\n",
    "* Какой из алгоритмов лучше обучается на меньшем числе объектов?\n",
    "* Может ли добавление новых объектов значительно повысить качество какого-то из алгоритмов или при существующем наборе данных для всех алгоритмов произошло насыщение?"
   ]
  },
  {
   "cell_type": "code",
   "execution_count": null,
   "metadata": {},
   "outputs": [],
   "source": []
  },
  {
   "cell_type": "markdown",
   "metadata": {},
   "source": [
    " "
   ]
  },
  {
   "cell_type": "markdown",
   "metadata": {},
   "source": [
    "### (2 балла) Добавление категориальных признаков в модели\n",
    "\n",
    "Пока мы не использовали нечисловые признаки, которые есть в датасете. Давайте посмотрим, правильно ли мы сделали и увеличится ли качество моделей после добавлениях этих признаков. \n",
    "\n",
    "**(0.5 балла) Задание 8.** Преобразуйте все категориальные признаки с помощью метода one-hot-encoding (например, это можно сделать с помощью функции [pandas.get_dummies](http://pandas.pydata.org/pandas-docs/stable/generated/pandas.get_dummies.html) или [DictVectorizer](http://scikit-learn.org/stable/modules/generated/sklearn.feature_extraction.DictVectorizer.html) / [OneHotEncoder](http://scikit-learn.org/stable/modules/generated/sklearn.preprocessing.OneHotEncoder.html) из sklearn). Это задание предлагается делать с использованием *heroes.csv*. В этом файле для каждой игры дан список героев. Напоминаем, что player_{0,1,2,3,4} – игроки команды radiant, player_{5,6,7,8,9} – игроки команды dire. Представьте каждую из команд в виде one-hot-encoded вектора с пятью единицами и остальными нулями."
   ]
  },
  {
   "cell_type": "code",
   "execution_count": null,
   "metadata": {},
   "outputs": [],
   "source": []
  },
  {
   "cell_type": "markdown",
   "metadata": {},
   "source": [
    "После кодирования признаков получилось достаточно много и правильно будет заново подобрать оптимальные гиперпараметры для моделей. \n",
    "\n",
    "**(1.5 балла) Задание 9.** Добавьте к масштабированным вещественным признакам закодированные категориальные и обучите алгоритмы с наилучшими гиперпараметрами, найденными ранее. Для SGDClassifier подберите гиперпараметры заново. Дало ли добавление новых признаков прирост качества? Измеряйте качество, как и раньше, используя 5-Fold CV. Для этого удобно воспользоваться функцией [cross_val_score](http://scikit-learn.org/stable/modules/generated/sklearn.cross_validation.cross_val_score.html#sklearn.cross_validation.cross_val_score).\n",
    "\n",
    "Отличается ли теперь наилучший классификатор от наилучшего в предыдущем пункте?\n",
    "\n",
    "One-hot encoding значительно увеличил количество входных данных. Как изменилось количество параметров у моделей? Наблюдается ли переобучение?"
   ]
  },
  {
   "cell_type": "code",
   "execution_count": null,
   "metadata": {},
   "outputs": [],
   "source": []
  },
  {
   "cell_type": "markdown",
   "metadata": {},
   "source": [
    "### (3 балла) Смешивание моделей (blending)\n",
    "\n",
    "Во всех предыдущих пунктах мы получили много сильных моделей, которые могут быть достаточно разными по своей природе (например, метод ближайших соседей и случайный лес). Часто на практике оказывается возможным увеличить качество предсказания путем смешивания разных моделей. Давайте посмотрим, действительно ли такой подход дает прирост в качестве.\n",
    "\n",
    "Выберите из построенных моделей двух предыдущих пунктов две, которые дали наибольшее начество на кросс-валидации (обозначим их $clf_1$ и $clf_2$). Далее постройте новый классификатор, ответ которого на некотором объекте $x$ будет выглядеть следующим образом:\n",
    "\n",
    "$$result(x) = clf_1(x) * \\alpha + clf_2(x) * (1 - \\alpha)$$\n",
    "\n",
    "где $\\alpha$ — гиперпараметр нового классификатора."
   ]
  },
  {
   "cell_type": "markdown",
   "metadata": {},
   "source": [
    "**(2 балла) Задание 10.**\n",
    "При реализации своих моделей хорошей практикой является создание sklearn-совместимых классов. Во-первых, такая реализация будет иметь стандартный интерфейс и позволит другим людям безболезненно обучать реализованные вами модели. Во-вторых, появляется возможность использовать любой функционал пакета sklearn, принимающий на вход модель, например, класс *GridSearchCV*, *learning_curve* и другие.\n",
    "\n",
    "Создайте классификатор, который инициализируется двумя произвольными классификаторами и параметром $\\alpha$. Во время обучения такой классификатор должен обучать обе базовые модели, а на этапе предсказания замешивать предсказания базовых моделей по формуле, указанной выше. \n",
    "\n",
    "Для создания пользовательского классификатора необходимо отнаследоваться от базовых классов *[BaseEstimator](http://scikit-learn.org/stable/modules/generated/sklearn.base.BaseEstimator.html), [ClassifierMixin](http://scikit-learn.org/stable/modules/generated/sklearn.base.ClassifierMixin.html)* и реализовать методы *\\_\\_init\\_\\_, fit, predict и predict_proba*. Пример sklearn-совместимого классификатора с комментариями можно найти [здесь](http://scikit-learn.org/stable/developers/contributing.html#rolling-your-own-estimator) "
   ]
  },
  {
   "cell_type": "code",
   "execution_count": null,
   "metadata": {},
   "outputs": [],
   "source": []
  },
  {
   "cell_type": "markdown",
   "metadata": {},
   "source": [
    "**(1 балл) Задание 11.** Подберите по сетке от 0 до 1 значение $\\alpha$ для этого классификатора. Если класс реализован правильно, то вы cможете использовать *GridSearchCV*, как в случае с обычными классификаторами.\n",
    "\n",
    "Изобразите на графике среднее качество по фолдам и доверительный интервал в зависимости от $\\alpha$.\n",
    "\n",
    "Дал ли этот подход прирост к качеству по сравнению с моделями, обученными по-отдельности? Поясните, почему даже простой блендинг моделей может влять на итоговое качество?"
   ]
  },
  {
   "cell_type": "code",
   "execution_count": null,
   "metadata": {
    "jupyter": {
     "outputs_hidden": true
    }
   },
   "outputs": [],
   "source": []
  },
  {
   "cell_type": "markdown",
   "metadata": {},
   "source": [
    "## (2 балла) Сравнение построенных моделей\n",
    "\n",
    "![](http://cdn.shopify.com/s/files/1/0870/1066/files/compare_e8b89647-3cb6-4871-a976-2e36e5987773.png?1750043340268621065)\n",
    "\n",
    "После того как было построено много моделей, правильным продолжением является сравнение их между собой.  Воспользуйтесь диаграммой размаха (\"ящик с усами\") для сравнения алгоритмов между собой. Эту диаграмму можно построить при помощи [boxplot](https://matplotlib.org/3.1.0/api/_as_gen/matplotlib.pyplot.boxplot.html) из matplotlib либо через [обертку](https://pandas.pydata.org/pandas-docs/stable/reference/api/pandas.DataFrame.boxplot.html) над ней из pandas."
   ]
  },
  {
   "cell_type": "markdown",
   "metadata": {},
   "source": [
    "**(2 балла) Задание 12.** Для каждого типа классификатора (kNN, DecisionTree, RandomForest, SGD classifier), а так же смешанной модели, выберите тот, которых давал наилучшее качество на кросс-валидации и постройте диаграмму размаха. Все классификаторы должны быть изображены на одном графике.\n",
    " \n",
    "Сделайте общие итоговые выводы о классификаторах с точки зрения их работы с признаками и сложности самой модели (какие гиперпараметры есть у модели, сильно ли изменение значения гиперпараметра влияет на качество модели)."
   ]
  },
  {
   "cell_type": "code",
   "execution_count": null,
   "metadata": {},
   "outputs": [],
   "source": []
  },
  {
   "cell_type": "markdown",
   "metadata": {},
   "source": [
    "Не забудьте воспользоваться всеми полученными наработками. Отправьте результаты предсказаний ваших моделей для матчей из test.csv в соревнование на [kaggle](https://www.kaggle.com/t/55797188147b4b519023923730aa5545). Будьте внимательными, для части матчей из test.csv отсутствуют некоторые данные, для этих матчей все равно требуется что-то предсказать."
   ]
  }
 ],
 "metadata": {
  "kernelspec": {
   "display_name": "Python 3",
   "language": "python",
   "name": "python3"
  },
  "language_info": {
   "codemirror_mode": {
    "name": "ipython",
    "version": 3
   },
   "file_extension": ".py",
   "mimetype": "text/x-python",
   "name": "python",
   "nbconvert_exporter": "python",
   "pygments_lexer": "ipython3",
   "version": "3.7.6"
  }
 },
 "nbformat": 4,
 "nbformat_minor": 4
}
