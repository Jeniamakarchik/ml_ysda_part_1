{
 "cells": [
  {
   "cell_type": "code",
   "execution_count": 1,
   "metadata": {
    "slideshow": {
     "slide_type": "skip"
    }
   },
   "outputs": [],
   "source": [
    "%matplotlib inline\n",
    "import matplotlib.pyplot as plt\n",
    "import seaborn as sns\n",
    "sns.set()\n",
    "import numpy as np"
   ]
  },
  {
   "cell_type": "markdown",
   "metadata": {
    "slideshow": {
     "slide_type": "slide"
    }
   },
   "source": [
    "# Преподобный Байес и его секта"
   ]
  },
  {
   "cell_type": "markdown",
   "metadata": {
    "slideshow": {
     "slide_type": "slide"
    }
   },
   "source": [
    "![](https://www.investigacionyciencia.es/images/13450/imageFacebookThumbnail.jpg)"
   ]
  },
  {
   "cell_type": "markdown",
   "metadata": {
    "slideshow": {
     "slide_type": "slide"
    }
   },
   "source": [
    "## Восстановление плотности"
   ]
  },
  {
   "cell_type": "markdown",
   "metadata": {
    "slideshow": {
     "slide_type": "fragment"
    }
   },
   "source": [
    "**Дано**:\n",
    "* обучающая выборка $X^{\\ell}=(x_i, y_i)_{i=1}^{\\ell}$\n",
    "\n",
    "**Найти**:\n",
    "* совместную плотность признаков-ответов $p(x, y)$"
   ]
  },
  {
   "cell_type": "markdown",
   "metadata": {
    "slideshow": {
     "slide_type": "fragment"
    }
   },
   "source": [
    "Если бы мы смогли найти эту плотность, то были бы в шоколаде... На практике всё сложнее."
   ]
  },
  {
   "cell_type": "markdown",
   "metadata": {
    "slideshow": {
     "slide_type": "slide"
    }
   },
   "source": [
    "## Непараметрические методы восстановления плотности"
   ]
  },
  {
   "cell_type": "markdown",
   "metadata": {
    "slideshow": {
     "slide_type": "slide"
    }
   },
   "source": [
    "Рассмотрим всё на одномерной картинке: так будет понятнее. Давайте нагенерируем немножечко данных:"
   ]
  },
  {
   "cell_type": "code",
   "execution_count": 2,
   "metadata": {
    "slideshow": {
     "slide_type": "fragment"
    }
   },
   "outputs": [],
   "source": [
    "def make_data(N, f=0.3, rseed=1):\n",
    "    rand = np.random.RandomState(rseed)\n",
    "    x = rand.randn(N)\n",
    "    x[int(f * N):] += 5\n",
    "    return x\n",
    "\n",
    "x = make_data(1000)"
   ]
  },
  {
   "cell_type": "code",
   "execution_count": 3,
   "metadata": {
    "slideshow": {
     "slide_type": "fragment"
    }
   },
   "outputs": [
    {
     "data": {
      "image/png": "[encoded data removed]",
      "text/plain": [
       "<Figure size 432x288 with 1 Axes>"
      ]
     },
     "metadata": {
      "needs_background": "light"
     },
     "output_type": "display_data"
    }
   ],
   "source": [
    "hist = plt.hist(x, bins=30, density=True)"
   ]
  },
  {
   "cell_type": "markdown",
   "metadata": {
    "slideshow": {
     "slide_type": "fragment"
    }
   },
   "source": [
    "Красота, не правда ли? :) Два выраженных пика, все дела."
   ]
  },
  {
   "cell_type": "markdown",
   "metadata": {
    "slideshow": {
     "slide_type": "slide"
    }
   },
   "source": [
    "Но от разбиения на корзины зависит слишком многое. Смотрим:"
   ]
  },
  {
   "cell_type": "code",
   "execution_count": 4,
   "metadata": {
    "slideshow": {
     "slide_type": "fragment"
    }
   },
   "outputs": [],
   "source": [
    "x = make_data(20)\n",
    "bins = np.linspace(-5, 10, 10)"
   ]
  },
  {
   "cell_type": "code",
   "execution_count": 5,
   "metadata": {
    "slideshow": {
     "slide_type": "fragment"
    }
   },
   "outputs": [
    {
     "data": {
      "image/png": "[encoded data removed]",
      "text/plain": [
       "<Figure size 864x288 with 2 Axes>"
      ]
     },
     "metadata": {
      "needs_background": "light"
     },
     "output_type": "display_data"
    }
   ],
   "source": [
    "fig, ax = plt.subplots(1, 2, figsize=(12, 4),\n",
    "                       sharex=True, sharey=True,\n",
    "                       subplot_kw={'xlim':(-4, 9),\n",
    "                                   'ylim':(-0.02, 0.3)})\n",
    "fig.subplots_adjust(wspace=0.05)\n",
    "for i, offset in enumerate([0.0, 0.6]):\n",
    "    ax[i].hist(x, bins=bins + offset, density=True)\n",
    "    ax[i].plot(x, np.full_like(x, -0.01), '|k',\n",
    "               markeredgewidth=1)"
   ]
  },
  {
   "cell_type": "markdown",
   "metadata": {
    "slideshow": {
     "slide_type": "slide"
    }
   },
   "source": [
    "Данные одни и те же, но как-то правая картинка даёт совсем неправильное представление о том, что происходит."
   ]
  },
  {
   "cell_type": "markdown",
   "metadata": {
    "slideshow": {
     "slide_type": "fragment"
    }
   },
   "source": [
    "Хочется учитывать не просто количество объектов, попавщее в корзину, а именно настоящую плотность. Давайте попробуем немножечко сгладить:"
   ]
  },
  {
   "cell_type": "code",
   "execution_count": 6,
   "metadata": {
    "slideshow": {
     "slide_type": "fragment"
    }
   },
   "outputs": [
    {
     "data": {
      "image/png": "[encoded data removed]",
      "text/plain": [
       "<Figure size 432x288 with 1 Axes>"
      ]
     },
     "metadata": {
      "needs_background": "light"
     },
     "output_type": "display_data"
    }
   ],
   "source": [
    "x_d = np.linspace(-4, 8, 2000)\n",
    "density = sum((abs(xi - x_d) < 0.5) for xi in x)\n",
    "\n",
    "plt.fill_between(x_d, density, alpha=0.5)\n",
    "plt.plot(x, np.full_like(x, -0.1), '|k', markeredgewidth=1)\n",
    "\n",
    "plt.axis([-4, 8, -0.2, 8]);"
   ]
  },
  {
   "cell_type": "markdown",
   "metadata": {
    "slideshow": {
     "slide_type": "slide"
    }
   },
   "source": [
    "Получилось получше! Но всё равно немного угловато. Давайте сгладим каким-нибудь ядром:"
   ]
  },
  {
   "cell_type": "code",
   "execution_count": 7,
   "metadata": {
    "slideshow": {
     "slide_type": "fragment"
    }
   },
   "outputs": [
    {
     "data": {
      "text/plain": [
       "[-4, 8, -0.2, 5]"
      ]
     },
     "execution_count": 7,
     "metadata": {},
     "output_type": "execute_result"
    },
    {
     "data": {
      "image/png": "[encoded data removed]",
      "text/plain": [
       "<Figure size 432x288 with 1 Axes>"
      ]
     },
     "metadata": {
      "needs_background": "light"
     },
     "output_type": "display_data"
    }
   ],
   "source": [
    "from scipy.stats import norm\n",
    "x_d = np.linspace(-4, 8, 1000)\n",
    "density = sum(norm(xi).pdf(x_d) for xi in x)\n",
    "\n",
    "plt.fill_between(x_d, density, alpha=0.5)\n",
    "plt.plot(x, np.full_like(x, -0.1), '|k', markeredgewidth=1)\n",
    "\n",
    "plt.axis([-4, 8, -0.2, 5])"
   ]
  },
  {
   "cell_type": "markdown",
   "metadata": {
    "slideshow": {
     "slide_type": "fragment"
    }
   },
   "source": [
    "О, вот так уже совсем похоже на реальное положение дел."
   ]
  },
  {
   "cell_type": "markdown",
   "metadata": {
    "slideshow": {
     "slide_type": "slide"
    }
   },
   "source": [
    "Благо, в sklearn есть метод, который делает всё за нас. Занимаемся мы Kernel Density Estimation'ом (KDE), что и отражается в названии метода:"
   ]
  },
  {
   "cell_type": "code",
   "execution_count": 8,
   "metadata": {
    "slideshow": {
     "slide_type": "fragment"
    }
   },
   "outputs": [
    {
     "data": {
      "text/plain": [
       "[<matplotlib.lines.Line2D at 0x128c62d50>]"
      ]
     },
     "execution_count": 8,
     "metadata": {},
     "output_type": "execute_result"
    },
    {
     "data": {
      "image/png": "[encoded data removed]",
      "text/plain": [
       "<Figure size 432x288 with 1 Axes>"
      ]
     },
     "metadata": {
      "needs_background": "light"
     },
     "output_type": "display_data"
    }
   ],
   "source": [
    "from sklearn.neighbors import KernelDensity\n",
    "\n",
    "kde = KernelDensity(bandwidth=1.123, kernel='gaussian')\n",
    "kde.fit(x[:, None])\n",
    "\n",
    "logprob = kde.score_samples(x_d[:, None])\n",
    "\n",
    "plt.fill_between(x_d, np.exp(logprob), alpha=0.5)\n",
    "plt.ylim(-0.02, 0.22)\n",
    "plt.plot(x, np.full_like(x, -0.01), '|k', markeredgewidth=1)"
   ]
  },
  {
   "cell_type": "markdown",
   "metadata": {
    "slideshow": {
     "slide_type": "fragment"
    }
   },
   "source": [
    "Если поиграться с параметром bandwidth (ширина окна), то можно заметить, что далеко не для всех его значений плотность выглядит так радужно, как хотелось бы."
   ]
  },
  {
   "cell_type": "markdown",
   "metadata": {
    "slideshow": {
     "slide_type": "slide"
    }
   },
   "source": [
    "Т.к. этот параметр так сильно влияет на наш метод, хорошо бы найти его \"оптимальное\" значение... Благо, на помощь приходит кросс-валидация! И что особенно радостно, в sklearn есть стандартные для этого средства!"
   ]
  },
  {
   "cell_type": "code",
   "execution_count": 9,
   "metadata": {
    "slideshow": {
     "slide_type": "fragment"
    }
   },
   "outputs": [
    {
     "data": {
      "text/plain": [
       "GridSearchCV(cv=LeaveOneOut(), error_score='raise-deprecating',\n",
       "             estimator=KernelDensity(algorithm='auto', atol=0, bandwidth=1.0,\n",
       "                                     breadth_first=True, kernel='gaussian',\n",
       "                                     leaf_size=40, metric='euclidean',\n",
       "                                     metric_params=None, rtol=0),\n",
       "             iid='warn', n_jobs=None,\n",
       "             param_grid={'bandwidth': array([ 0.1       ,  0.10476158,  0.10974988,  0.1149757 ,  0.12045035,\n",
       "        0.12618569,  0.13219411,  0.13848...\n",
       "        3.27454916,  3.43046929,  3.59381366,  3.76493581,  3.94420606,\n",
       "        4.1320124 ,  4.32876128,  4.53487851,  4.75081016,  4.97702356,\n",
       "        5.21400829,  5.46227722,  5.72236766,  5.9948425 ,  6.28029144,\n",
       "        6.57933225,  6.8926121 ,  7.22080902,  7.56463328,  7.92482898,\n",
       "        8.30217568,  8.69749003,  9.11162756,  9.54548457, 10.        ])},\n",
       "             pre_dispatch='2*n_jobs', refit=True, return_train_score=False,\n",
       "             scoring=None, verbose=0)"
      ]
     },
     "execution_count": 9,
     "metadata": {},
     "output_type": "execute_result"
    }
   ],
   "source": [
    "from sklearn.model_selection import GridSearchCV\n",
    "from sklearn.model_selection import LeaveOneOut\n",
    "\n",
    "bandwidths = 10 ** np.linspace(-1, 1, 100)\n",
    "grid = GridSearchCV(KernelDensity(kernel='gaussian'),\n",
    "                    {'bandwidth': bandwidths},\n",
    "                    cv=LeaveOneOut())\n",
    "grid.fit(x[:, None])"
   ]
  },
  {
   "cell_type": "code",
   "execution_count": 10,
   "metadata": {
    "slideshow": {
     "slide_type": "fragment"
    }
   },
   "outputs": [
    {
     "data": {
      "text/plain": [
       "{'bandwidth': 1.1233240329780276}"
      ]
     },
     "execution_count": 10,
     "metadata": {},
     "output_type": "execute_result"
    }
   ],
   "source": [
    "grid.best_params_"
   ]
  },
  {
   "cell_type": "markdown",
   "metadata": {
    "slideshow": {
     "slide_type": "slide"
    }
   },
   "source": [
    "## Параметрические методы восстановления плотности"
   ]
  },
  {
   "cell_type": "markdown",
   "metadata": {
    "slideshow": {
     "slide_type": "slide"
    }
   },
   "source": [
    "В таких методах мы сами придумываем модель плотности вероятности, остаётся лишь подобрать параметры."
   ]
  },
  {
   "cell_type": "markdown",
   "metadata": {
    "slideshow": {
     "slide_type": "fragment"
    }
   },
   "source": [
    "Пусть у нас модель\n",
    "$$\n",
    "    p(x)=\\phi(x; \\theta)\n",
    "$$\n",
    "\n",
    "Предполагаем, что все объекты выборки распределены независимо друг от друга и подбираем $\\theta$ с помощью метода максимального правдоподобия:\n",
    "$$\n",
    "\\theta = \\arg\\max_{\\theta} \\sum\\limits_{i=1}^{\\ell}\\ln\\phi(x_i; \\theta)\n",
    "$$\n",
    "\n",
    "Дифференцируем, приравниваем к 0, получаем оценки."
   ]
  },
  {
   "cell_type": "markdown",
   "metadata": {
    "slideshow": {
     "slide_type": "slide"
    }
   },
   "source": [
    "## Байесовский классификатор"
   ]
  },
  {
   "cell_type": "markdown",
   "metadata": {
    "slideshow": {
     "slide_type": "slide"
    }
   },
   "source": [
    "Вообще, мы хотим решать задачу классификации:\n",
    "$$\n",
    "    y = \\arg\\max_{y}p(y|x)\n",
    "$$"
   ]
  },
  {
   "cell_type": "markdown",
   "metadata": {
    "slideshow": {
     "slide_type": "fragment"
    }
   },
   "source": [
    "Если бы мы умели вот так взять и выписать условную вероятность $y$ при условии $x$... Давайте лучше попробуем перевернуть всё немножечко с ног на голову."
   ]
  },
  {
   "cell_type": "markdown",
   "metadata": {
    "slideshow": {
     "slide_type": "slide"
    }
   },
   "source": [
    "Вспоминаем формулу Байеса:"
   ]
  },
  {
   "cell_type": "markdown",
   "metadata": {
    "slideshow": {
     "slide_type": "fragment"
    }
   },
   "source": [
    "![](https://upload.wikimedia.org/wikipedia/commons/thumb/1/18/Bayes%27_Theorem_MMB_01.jpg/1920px-Bayes%27_Theorem_MMB_01.jpg)"
   ]
  },
  {
   "cell_type": "markdown",
   "metadata": {
    "slideshow": {
     "slide_type": "slide"
    }
   },
   "source": [
    "$$\n",
    "p(y|x) = \\frac{p(x|y)p(y)}{p(x)} \\propto p(x|y)p(y)\n",
    "$$"
   ]
  },
  {
   "cell_type": "markdown",
   "metadata": {
    "slideshow": {
     "slide_type": "fragment"
    }
   },
   "source": [
    "Кажется, что $p(x|y)$ и $p(y)$ посчитать намного проще, чем $p(y|x)$"
   ]
  },
  {
   "cell_type": "markdown",
   "metadata": {
    "slideshow": {
     "slide_type": "slide"
    }
   },
   "source": [
    "## Наивный байесовский классификатор"
   ]
  },
  {
   "cell_type": "markdown",
   "metadata": {
    "slideshow": {
     "slide_type": "slide"
    }
   },
   "source": [
    "**НАИВНО** предположим, что все признаки у нас независимы. Тогда\n",
    "$$\n",
    "p(x|y)p(y)=p(y)\\prod\\limits_{i=1}^mp(x^i|y)\n",
    "$$"
   ]
  },
  {
   "cell_type": "markdown",
   "metadata": {
    "slideshow": {
     "slide_type": "fragment"
    }
   },
   "source": [
    "Как правило, $p(y)$ - это частоты ответов, а $p(x^i|y)$ зависит от признака."
   ]
  },
  {
   "cell_type": "markdown",
   "metadata": {
    "slideshow": {
     "slide_type": "slide"
    }
   },
   "source": [
    "### Дискретный случай"
   ]
  },
  {
   "cell_type": "markdown",
   "metadata": {
    "slideshow": {
     "slide_type": "fragment"
    }
   },
   "source": [
    "Пусть, не ограничивая общности, $x^i$ может принимать различные значения от 1 до $k$. И пусть $n_j$ - сколько раз в обучающей выборке встретился этот признак со значением $j$\n",
    "* Maximum likelihood\n",
    "$$\n",
    "            \\hat p(x^i|y) = \\frac{n_{x^i}}{\\sum\\limits_{j=1}^k n_j}\n",
    "$$\n",
    "* Add-one smoothing\n",
    "$$\n",
    "            \\hat p(x^i|y) = \\frac{1 + n_{x^i}}{k + \\sum\\limits_{j=1}^k n_j}\t\t\n",
    "$$\n"
   ]
  },
  {
   "cell_type": "markdown",
   "metadata": {
    "slideshow": {
     "slide_type": "slide"
    }
   },
   "source": [
    "* Adaptive/Laplace smoothing\n",
    "$$\n",
    "            \\hat p(x^i|y) = \\frac{\\alpha_{x^i} + n_{x^i}}{\\sum\\limits_{j=1}^k (\\alpha_j + n_j)}\t\t\n",
    "$$"
   ]
  },
  {
   "cell_type": "markdown",
   "metadata": {
    "slideshow": {
     "slide_type": "fragment"
    }
   },
   "source": [
    "Вы не поверите, но всё это соответствует параметрическому методу восстановление плотности, если считать, что данные распределены мультиномиально. Причём просто отличается заданием априорной вероятности на распределение :) За подробностями - в курс байесовских методов в следующем семестре!"
   ]
  },
  {
   "cell_type": "markdown",
   "metadata": {
    "slideshow": {
     "slide_type": "slide"
    }
   },
   "source": [
    "### Непрерывный случай"
   ]
  },
  {
   "cell_type": "markdown",
   "metadata": {
    "slideshow": {
     "slide_type": "fragment"
    }
   },
   "source": [
    "Тут тоже можно использовать всякие среднее, медиану (мы уже знаем, каким распределениям они соответствуют), а также KDE, рассмотренный нами выше :)"
   ]
  },
  {
   "cell_type": "markdown",
   "metadata": {},
   "source": [
    "Сгенерируем немного данных:"
   ]
  },
  {
   "cell_type": "code",
   "execution_count": 11,
   "metadata": {
    "slideshow": {
     "slide_type": "fragment"
    }
   },
   "outputs": [
    {
     "data": {
      "image/png": "[encoded data removed]",
      "text/plain": [
       "<Figure size 432x288 with 1 Axes>"
      ]
     },
     "metadata": {
      "needs_background": "light"
     },
     "output_type": "display_data"
    }
   ],
   "source": [
    "from sklearn.datasets import make_blobs\n",
    "X, y = make_blobs(100, 2, centers=2, random_state=2, cluster_std=1.5)\n",
    "plt.scatter(X[:, 0], X[:, 1], c=y, s=50, cmap='RdBu');"
   ]
  },
  {
   "cell_type": "markdown",
   "metadata": {
    "slideshow": {
     "slide_type": "slide"
    }
   },
   "source": [
    "Для наивных байесовских классификаторов в sklearn есть метод:"
   ]
  },
  {
   "cell_type": "code",
   "execution_count": 12,
   "metadata": {
    "slideshow": {
     "slide_type": "fragment"
    }
   },
   "outputs": [
    {
     "data": {
      "text/plain": [
       "GaussianNB(priors=None, var_smoothing=1e-09)"
      ]
     },
     "execution_count": 12,
     "metadata": {},
     "output_type": "execute_result"
    }
   ],
   "source": [
    "from sklearn.naive_bayes import GaussianNB\n",
    "model = GaussianNB()\n",
    "model.fit(X, y)"
   ]
  },
  {
   "cell_type": "markdown",
   "metadata": {
    "slideshow": {
     "slide_type": "slide"
    }
   },
   "source": [
    "**Задание 1 (0.5 балла), разминка.** Прикрутите нашу визуализацию разделяющей гиперплоскости к байесовскому классификатору. Почему она имеет такой вид? Какой он будет в общем случае, если мы в качестве распределения берём гауссово и решаем задачу двухклассовой классификации?"
   ]
  },
  {
   "cell_type": "code",
   "execution_count": 13,
   "metadata": {
    "slideshow": {
     "slide_type": "fragment"
    }
   },
   "outputs": [],
   "source": [
    "# function from seminar 6\n",
    "def plot_results(model, X, y, level=1.0, cmap=plt.cm.OrRd, use_decision_function=True, title='', plot_support_vectors=True):\n",
    "    # plot the line, the points, and the nearest vectors to the plane\n",
    "    plt.figure(1, figsize=(10, 8))\n",
    "    plt.clf()\n",
    "    \n",
    "    plt.scatter(X[:, 0], X[:, 1], c=y, zorder=10, cmap=cmap, s=50, edgecolor='black')\n",
    "\n",
    "    plt.axis('tight')\n",
    "    \n",
    "    def get_shifted_bounds(v, fraction=1.0/10):\n",
    "        v_min, v_max = np.min(v), np.max(v)\n",
    "        v_shift = np.abs(v_max - v_min) * fraction\n",
    "        return v_min - v_shift, v_max + v_shift\n",
    "\n",
    "    x_min, x_max = get_shifted_bounds(X[:, 0])\n",
    "    y_min, y_max = get_shifted_bounds(X[:, 1])\n",
    "\n",
    "    XX, YY = np.mgrid[x_min:x_max:500j, y_min:y_max:500j]\n",
    "\n",
    "    if hasattr(model, \"decision_function\") and use_decision_function:\n",
    "        Z = model.decision_function(np.c_[XX.ravel(), YY.ravel()])\n",
    "    else:\n",
    "        Z = model.predict(np.c_[XX.ravel(), YY.ravel()])\n",
    "\n",
    "    # Put the result into a color plot\n",
    "    Z = Z.reshape(XX.shape)\n",
    "    plt.figure(1, figsize=(10, 8))\n",
    "    plt.pcolormesh(XX, YY, Z, cmap=cmap)\n",
    "\n",
    "    plt.xlim(x_min, x_max)\n",
    "    plt.ylim(y_min, y_max)\n",
    "    plt.title(title)\n",
    "\n",
    "    plt.xticks(())\n",
    "    plt.yticks(())\n",
    "    plt.show()"
   ]
  },
  {
   "cell_type": "code",
   "execution_count": 14,
   "metadata": {},
   "outputs": [
    {
     "data": {
      "image/png": "[encoded data removed]",
      "text/plain": [
       "<Figure size 720x576 with 1 Axes>"
      ]
     },
     "metadata": {},
     "output_type": "display_data"
    }
   ],
   "source": [
    "plot_results(model, X, y)"
   ]
  },
  {
   "cell_type": "markdown",
   "metadata": {
    "slideshow": {
     "slide_type": "fragment"
    }
   },
   "source": [
    "YOUR ANSWER HERE"
   ]
  },
  {
   "cell_type": "markdown",
   "metadata": {},
   "source": [
    "Так как мы в качестве априорной плотности распределения вероятностей выбрали гауссовскую функцию, а она представляет собой экспоненту в степени -x^2 и стоит в знаменателе. Также есть зависимость от среднего значение и дисперсии для каждого класса, так как они могут различаться для разных классов. Если у нас два класса и выборка сбалансированна, а также разброс внутри классов совпадает, то вероятность попадания в класс 1 можно рассчитать как:\n",
    "$$P(1|X) = P(X|1)P(1)/(P(X|1)P(1) + P(X|0)P(0)) = 1/(1 + e^{-(x - \\mu_0)^2/\\sigma_0) + ((x - \\mu_1)^2/\\sigma_1)})$$"
   ]
  },
  {
   "cell_type": "markdown",
   "metadata": {
    "slideshow": {
     "slide_type": "slide"
    }
   },
   "source": [
    "## А теперь в бой!"
   ]
  },
  {
   "cell_type": "markdown",
   "metadata": {
    "slideshow": {
     "slide_type": "slide"
    }
   },
   "source": [
    "Давайте сравним \"наивный\" байесовский классификатор и не такой уж и наивный."
   ]
  },
  {
   "cell_type": "markdown",
   "metadata": {
    "slideshow": {
     "slide_type": "fragment"
    }
   },
   "source": [
    "Для этого загрузим набор рукописных цифр и попробуем решить задачу многоклассовой классификации с помощью \"наивного\" байесовского классификатора:"
   ]
  },
  {
   "cell_type": "code",
   "execution_count": 15,
   "metadata": {
    "slideshow": {
     "slide_type": "fragment"
    }
   },
   "outputs": [
    {
     "data": {
      "text/plain": [
       "0.8065207555552298"
      ]
     },
     "execution_count": 15,
     "metadata": {},
     "output_type": "execute_result"
    }
   ],
   "source": [
    "from sklearn.datasets import load_digits\n",
    "from sklearn.model_selection import cross_val_score\n",
    "\n",
    "digits = load_digits()\n",
    "cross_val_score(GaussianNB(), digits.data, digits.target, cv=5).mean()"
   ]
  },
  {
   "cell_type": "markdown",
   "metadata": {
    "slideshow": {
     "slide_type": "fragment"
    }
   },
   "source": [
    "Неплохо... Но можно лучше!"
   ]
  },
  {
   "cell_type": "markdown",
   "metadata": {
    "slideshow": {
     "slide_type": "slide"
    }
   },
   "source": [
    "**Задание 2 (1.5 балла), \"наивный\" повзрослел**. Давайте избавимся от детской наивности и научим байесовский классификатор вести себя по-мужски!\n",
    "* разделите тренировочную выборку по меткам классов\n",
    "\n",
    "* для каждого куска получите распределение $p(x|y)$, используя KDE\n",
    "\n",
    "* пусть $p(y)$ будет равно доли объектов с классом $y$\n",
    "\n",
    "* при предсказании, выдавайте класс с максимальной апостериорной вероятностью, то есть с максимумом $p(x|y)p(y)$\n",
    "\n",
    "* чтобы подобрать оптимальное значение ширины окна стандартной кросс-валидацией, оберните это всё в класс с интерфейсом ниже"
   ]
  },
  {
   "cell_type": "markdown",
   "metadata": {},
   "source": [
    "https://jakevdp.github.io/PythonDataScienceHandbook/05.13-kernel-density-estimation.html"
   ]
  },
  {
   "cell_type": "code",
   "execution_count": 16,
   "metadata": {
    "slideshow": {
     "slide_type": "slide"
    }
   },
   "outputs": [],
   "source": [
    "from sklearn.base import BaseEstimator, ClassifierMixin\n",
    "\n",
    "class KDEClassifier(BaseEstimator, ClassifierMixin):\n",
    "    def __init__(self, bandwidth=1.0, kernel='gaussian'):\n",
    "        self.bandwidth = bandwidth\n",
    "        self.kernel = kernel\n",
    "        \n",
    "        self.class_labels = None\n",
    "        self.class_probs = None\n",
    "        self.sample_kde = None\n",
    "        \n",
    "    def fit(self, X, y):\n",
    "        self.class_labels, counts = np.unique(y, return_counts=True)\n",
    "        self.class_probs = list(counts/len(y))\n",
    "        self.sample_kde = []\n",
    "        \n",
    "        for cls in self.class_labels:\n",
    "            X_cls = X[y == cls]\n",
    "            self.sample_kde.append(KernelDensity(bandwidth=self.bandwidth, kernel=self.kernel).fit(X_cls))\n",
    "            \n",
    "        return self\n",
    "        \n",
    "    def predict_proba(self, X):\n",
    "        logprobs = np.vstack([kde.score_samples(X) for kde in self.sample_kde]).T\n",
    "        result = np.exp(logprobs + np.log(self.class_probs))\n",
    "        return result / result.sum(1, keepdims=True)\n",
    "        \n",
    "    def predict(self, X):\n",
    "        return self.class_labels[np.argmax(self.predict_proba(X), 1)]"
   ]
  },
  {
   "cell_type": "code",
   "execution_count": 17,
   "metadata": {
    "scrolled": false
   },
   "outputs": [
    {
     "name": "stdout",
     "output_type": "stream",
     "text": [
      "Fitting 1797 folds for each of 100 candidates, totalling 179700 fits\n"
     ]
    },
    {
     "name": "stderr",
     "output_type": "stream",
     "text": [
      "[Parallel(n_jobs=-1)]: Using backend LokyBackend with 8 concurrent workers.\n",
      "[Parallel(n_jobs=-1)]: Done  34 tasks      | elapsed:    2.6s\n",
      "[Parallel(n_jobs=-1)]: Done 1680 tasks      | elapsed:    7.3s\n",
      "[Parallel(n_jobs=-1)]: Done 5680 tasks      | elapsed:   13.7s\n",
      "[Parallel(n_jobs=-1)]: Done 11280 tasks      | elapsed:   24.0s\n",
      "[Parallel(n_jobs=-1)]: Done 18480 tasks      | elapsed:   38.3s\n",
      "[Parallel(n_jobs=-1)]: Done 27280 tasks      | elapsed:   53.7s\n",
      "[Parallel(n_jobs=-1)]: Done 37680 tasks      | elapsed:  1.1min\n",
      "[Parallel(n_jobs=-1)]: Done 49680 tasks      | elapsed:  1.4min\n",
      "[Parallel(n_jobs=-1)]: Done 63280 tasks      | elapsed:  1.8min\n",
      "[Parallel(n_jobs=-1)]: Done 78480 tasks      | elapsed:  2.1min\n",
      "[Parallel(n_jobs=-1)]: Done 95280 tasks      | elapsed:  2.5min\n",
      "[Parallel(n_jobs=-1)]: Done 113680 tasks      | elapsed:  3.0min\n",
      "[Parallel(n_jobs=-1)]: Done 133680 tasks      | elapsed:  3.5min\n",
      "[Parallel(n_jobs=-1)]: Done 155280 tasks      | elapsed:  4.0min\n",
      "[Parallel(n_jobs=-1)]: Done 178480 tasks      | elapsed:  4.5min\n",
      "[Parallel(n_jobs=-1)]: Done 179700 out of 179700 | elapsed:  4.6min finished\n"
     ]
    },
    {
     "data": {
      "text/plain": [
       "GridSearchCV(cv=LeaveOneOut(), error_score='raise-deprecating',\n",
       "             estimator=KDEClassifier(bandwidth=1.0, kernel='gaussian'),\n",
       "             iid='warn', n_jobs=-1,\n",
       "             param_grid={'bandwidth': array([  1.        ,   1.04761575,   1.09749877,   1.149757  ,\n",
       "         1.20450354,   1.26185688,   1.32194115,   1.38488637,\n",
       "         1.45082878,   1.51991108,   1.59228279,   1.66810054,\n",
       "         1.7475284 ,   1.83073828,   1.91791026,   2.009233  ,\n",
       "         2.10490414,   2.205...\n",
       "        34.30469286,  35.93813664,  37.64935807,  39.44206059,\n",
       "        41.320124  ,  43.28761281,  45.34878508,  47.50810162,\n",
       "        49.77023564,  52.14008288,  54.62277218,  57.22367659,\n",
       "        59.94842503,  62.80291442,  65.79332247,  68.92612104,\n",
       "        72.20809018,  75.64633276,  79.24828984,  83.02175681,\n",
       "        86.97490026,  91.11627561,  95.45484567, 100.        ])},\n",
       "             pre_dispatch='2*n_jobs', refit=True, return_train_score=False,\n",
       "             scoring=None, verbose=1.0)"
      ]
     },
     "execution_count": 17,
     "metadata": {},
     "output_type": "execute_result"
    }
   ],
   "source": [
    "bandwidths = 10 ** np.linspace(0, 2, 100)\n",
    "grid = GridSearchCV(KDEClassifier(), {'bandwidth': bandwidths}, cv=LeaveOneOut(), n_jobs=-1, verbose=1.0)\n",
    "grid.fit(digits.data, digits.target)"
   ]
  },
  {
   "cell_type": "code",
   "execution_count": 22,
   "metadata": {},
   "outputs": [
    {
     "name": "stdout",
     "output_type": "stream",
     "text": [
      "Best parameter: {'bandwidth': 4.862601580065355}\n",
      "Best score:  0.988313856427379\n"
     ]
    }
   ],
   "source": [
    "print(f'Best parameter: {grid.best_params_}')\n",
    "print(f'Best score: ', grid.best_score_)"
   ]
  }
 ],
 "metadata": {
  "celltoolbar": "Slideshow",
  "kernelspec": {
   "display_name": "Python 3",
   "language": "python",
   "name": "python3"
  },
  "language_info": {
   "codemirror_mode": {
    "name": "ipython",
    "version": 3
   },
   "file_extension": ".py",
   "mimetype": "text/x-python",
   "name": "python",
   "nbconvert_exporter": "python",
   "pygments_lexer": "ipython3",
   "version": "3.7.7"
  }
 },
 "nbformat": 4,
 "nbformat_minor": 2
}
